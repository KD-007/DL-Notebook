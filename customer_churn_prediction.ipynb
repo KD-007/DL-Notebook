{
 "cells": [
  {
   "cell_type": "code",
   "execution_count": 58,
   "metadata": {},
   "outputs": [],
   "source": [
    "import pandas as pd\n",
    "import matplotlib.pyplot as plt\n",
    "import numpy as np"
   ]
  },
  {
   "cell_type": "code",
   "execution_count": 2,
   "metadata": {},
   "outputs": [
    {
     "data": {
      "text/html": [
       "<div>\n",
       "<style scoped>\n",
       "    .dataframe tbody tr th:only-of-type {\n",
       "        vertical-align: middle;\n",
       "    }\n",
       "\n",
       "    .dataframe tbody tr th {\n",
       "        vertical-align: top;\n",
       "    }\n",
       "\n",
       "    .dataframe thead th {\n",
       "        text-align: right;\n",
       "    }\n",
       "</style>\n",
       "<table border=\"1\" class=\"dataframe\">\n",
       "  <thead>\n",
       "    <tr style=\"text-align: right;\">\n",
       "      <th></th>\n",
       "      <th>customerID</th>\n",
       "      <th>gender</th>\n",
       "      <th>SeniorCitizen</th>\n",
       "      <th>Partner</th>\n",
       "      <th>Dependents</th>\n",
       "      <th>tenure</th>\n",
       "      <th>PhoneService</th>\n",
       "      <th>MultipleLines</th>\n",
       "      <th>InternetService</th>\n",
       "      <th>OnlineSecurity</th>\n",
       "      <th>...</th>\n",
       "      <th>DeviceProtection</th>\n",
       "      <th>TechSupport</th>\n",
       "      <th>StreamingTV</th>\n",
       "      <th>StreamingMovies</th>\n",
       "      <th>Contract</th>\n",
       "      <th>PaperlessBilling</th>\n",
       "      <th>PaymentMethod</th>\n",
       "      <th>MonthlyCharges</th>\n",
       "      <th>TotalCharges</th>\n",
       "      <th>Churn</th>\n",
       "    </tr>\n",
       "  </thead>\n",
       "  <tbody>\n",
       "    <tr>\n",
       "      <th>0</th>\n",
       "      <td>7590-VHVEG</td>\n",
       "      <td>Female</td>\n",
       "      <td>0</td>\n",
       "      <td>Yes</td>\n",
       "      <td>No</td>\n",
       "      <td>1</td>\n",
       "      <td>No</td>\n",
       "      <td>No phone service</td>\n",
       "      <td>DSL</td>\n",
       "      <td>No</td>\n",
       "      <td>...</td>\n",
       "      <td>No</td>\n",
       "      <td>No</td>\n",
       "      <td>No</td>\n",
       "      <td>No</td>\n",
       "      <td>Month-to-month</td>\n",
       "      <td>Yes</td>\n",
       "      <td>Electronic check</td>\n",
       "      <td>29.85</td>\n",
       "      <td>29.85</td>\n",
       "      <td>No</td>\n",
       "    </tr>\n",
       "    <tr>\n",
       "      <th>1</th>\n",
       "      <td>5575-GNVDE</td>\n",
       "      <td>Male</td>\n",
       "      <td>0</td>\n",
       "      <td>No</td>\n",
       "      <td>No</td>\n",
       "      <td>34</td>\n",
       "      <td>Yes</td>\n",
       "      <td>No</td>\n",
       "      <td>DSL</td>\n",
       "      <td>Yes</td>\n",
       "      <td>...</td>\n",
       "      <td>Yes</td>\n",
       "      <td>No</td>\n",
       "      <td>No</td>\n",
       "      <td>No</td>\n",
       "      <td>One year</td>\n",
       "      <td>No</td>\n",
       "      <td>Mailed check</td>\n",
       "      <td>56.95</td>\n",
       "      <td>1889.5</td>\n",
       "      <td>No</td>\n",
       "    </tr>\n",
       "    <tr>\n",
       "      <th>2</th>\n",
       "      <td>3668-QPYBK</td>\n",
       "      <td>Male</td>\n",
       "      <td>0</td>\n",
       "      <td>No</td>\n",
       "      <td>No</td>\n",
       "      <td>2</td>\n",
       "      <td>Yes</td>\n",
       "      <td>No</td>\n",
       "      <td>DSL</td>\n",
       "      <td>Yes</td>\n",
       "      <td>...</td>\n",
       "      <td>No</td>\n",
       "      <td>No</td>\n",
       "      <td>No</td>\n",
       "      <td>No</td>\n",
       "      <td>Month-to-month</td>\n",
       "      <td>Yes</td>\n",
       "      <td>Mailed check</td>\n",
       "      <td>53.85</td>\n",
       "      <td>108.15</td>\n",
       "      <td>Yes</td>\n",
       "    </tr>\n",
       "    <tr>\n",
       "      <th>3</th>\n",
       "      <td>7795-CFOCW</td>\n",
       "      <td>Male</td>\n",
       "      <td>0</td>\n",
       "      <td>No</td>\n",
       "      <td>No</td>\n",
       "      <td>45</td>\n",
       "      <td>No</td>\n",
       "      <td>No phone service</td>\n",
       "      <td>DSL</td>\n",
       "      <td>Yes</td>\n",
       "      <td>...</td>\n",
       "      <td>Yes</td>\n",
       "      <td>Yes</td>\n",
       "      <td>No</td>\n",
       "      <td>No</td>\n",
       "      <td>One year</td>\n",
       "      <td>No</td>\n",
       "      <td>Bank transfer (automatic)</td>\n",
       "      <td>42.30</td>\n",
       "      <td>1840.75</td>\n",
       "      <td>No</td>\n",
       "    </tr>\n",
       "    <tr>\n",
       "      <th>4</th>\n",
       "      <td>9237-HQITU</td>\n",
       "      <td>Female</td>\n",
       "      <td>0</td>\n",
       "      <td>No</td>\n",
       "      <td>No</td>\n",
       "      <td>2</td>\n",
       "      <td>Yes</td>\n",
       "      <td>No</td>\n",
       "      <td>Fiber optic</td>\n",
       "      <td>No</td>\n",
       "      <td>...</td>\n",
       "      <td>No</td>\n",
       "      <td>No</td>\n",
       "      <td>No</td>\n",
       "      <td>No</td>\n",
       "      <td>Month-to-month</td>\n",
       "      <td>Yes</td>\n",
       "      <td>Electronic check</td>\n",
       "      <td>70.70</td>\n",
       "      <td>151.65</td>\n",
       "      <td>Yes</td>\n",
       "    </tr>\n",
       "  </tbody>\n",
       "</table>\n",
       "<p>5 rows × 21 columns</p>\n",
       "</div>"
      ],
      "text/plain": [
       "   customerID  gender  SeniorCitizen Partner Dependents  tenure PhoneService  \\\n",
       "0  7590-VHVEG  Female              0     Yes         No       1           No   \n",
       "1  5575-GNVDE    Male              0      No         No      34          Yes   \n",
       "2  3668-QPYBK    Male              0      No         No       2          Yes   \n",
       "3  7795-CFOCW    Male              0      No         No      45           No   \n",
       "4  9237-HQITU  Female              0      No         No       2          Yes   \n",
       "\n",
       "      MultipleLines InternetService OnlineSecurity  ... DeviceProtection  \\\n",
       "0  No phone service             DSL             No  ...               No   \n",
       "1                No             DSL            Yes  ...              Yes   \n",
       "2                No             DSL            Yes  ...               No   \n",
       "3  No phone service             DSL            Yes  ...              Yes   \n",
       "4                No     Fiber optic             No  ...               No   \n",
       "\n",
       "  TechSupport StreamingTV StreamingMovies        Contract PaperlessBilling  \\\n",
       "0          No          No              No  Month-to-month              Yes   \n",
       "1          No          No              No        One year               No   \n",
       "2          No          No              No  Month-to-month              Yes   \n",
       "3         Yes          No              No        One year               No   \n",
       "4          No          No              No  Month-to-month              Yes   \n",
       "\n",
       "               PaymentMethod MonthlyCharges  TotalCharges Churn  \n",
       "0           Electronic check          29.85         29.85    No  \n",
       "1               Mailed check          56.95        1889.5    No  \n",
       "2               Mailed check          53.85        108.15   Yes  \n",
       "3  Bank transfer (automatic)          42.30       1840.75    No  \n",
       "4           Electronic check          70.70        151.65   Yes  \n",
       "\n",
       "[5 rows x 21 columns]"
      ]
     },
     "execution_count": 2,
     "metadata": {},
     "output_type": "execute_result"
    }
   ],
   "source": [
    "df = pd.read_csv(\"../csvs/customer_curn.csv\")\n",
    "df.head()"
   ]
  },
  {
   "cell_type": "code",
   "execution_count": 3,
   "metadata": {},
   "outputs": [
    {
     "data": {
      "text/plain": [
       "customerID           object\n",
       "gender               object\n",
       "SeniorCitizen         int64\n",
       "Partner              object\n",
       "Dependents           object\n",
       "tenure                int64\n",
       "PhoneService         object\n",
       "MultipleLines        object\n",
       "InternetService      object\n",
       "OnlineSecurity       object\n",
       "OnlineBackup         object\n",
       "DeviceProtection     object\n",
       "TechSupport          object\n",
       "StreamingTV          object\n",
       "StreamingMovies      object\n",
       "Contract             object\n",
       "PaperlessBilling     object\n",
       "PaymentMethod        object\n",
       "MonthlyCharges      float64\n",
       "TotalCharges         object\n",
       "Churn                object\n",
       "dtype: object"
      ]
     },
     "execution_count": 3,
     "metadata": {},
     "output_type": "execute_result"
    }
   ],
   "source": [
    "df.dtypes"
   ]
  },
  {
   "cell_type": "code",
   "execution_count": 4,
   "metadata": {},
   "outputs": [
    {
     "data": {
      "text/plain": [
       "(7043, 21)"
      ]
     },
     "execution_count": 4,
     "metadata": {},
     "output_type": "execute_result"
    }
   ],
   "source": [
    "df.shape"
   ]
  },
  {
   "cell_type": "code",
   "execution_count": 5,
   "metadata": {},
   "outputs": [],
   "source": [
    "df.drop(\"customerID\" ,axis=1 , inplace=True)"
   ]
  },
  {
   "cell_type": "code",
   "execution_count": 6,
   "metadata": {},
   "outputs": [
    {
     "data": {
      "text/plain": [
       "0         29.85\n",
       "1       1889.50\n",
       "2        108.15\n",
       "3       1840.75\n",
       "4        151.65\n",
       "         ...   \n",
       "7038    1990.50\n",
       "7039    7362.90\n",
       "7040     346.45\n",
       "7041     306.60\n",
       "7042    6844.50\n",
       "Name: TotalCharges, Length: 7043, dtype: float64"
      ]
     },
     "execution_count": 6,
     "metadata": {},
     "output_type": "execute_result"
    }
   ],
   "source": [
    "pd.to_numeric(df.TotalCharges , errors='coerce')"
   ]
  },
  {
   "cell_type": "code",
   "execution_count": 7,
   "metadata": {},
   "outputs": [],
   "source": [
    "df[\"TotalCharges\"] = pd.to_numeric(df.TotalCharges , errors='coerce')"
   ]
  },
  {
   "cell_type": "code",
   "execution_count": 8,
   "metadata": {},
   "outputs": [],
   "source": [
    "df = df[~pd.to_numeric(df.TotalCharges , errors='coerce').isnull()]"
   ]
  },
  {
   "cell_type": "code",
   "execution_count": 9,
   "metadata": {},
   "outputs": [
    {
     "data": {
      "text/plain": [
       "gender               object\n",
       "SeniorCitizen         int64\n",
       "Partner              object\n",
       "Dependents           object\n",
       "tenure                int64\n",
       "PhoneService         object\n",
       "MultipleLines        object\n",
       "InternetService      object\n",
       "OnlineSecurity       object\n",
       "OnlineBackup         object\n",
       "DeviceProtection     object\n",
       "TechSupport          object\n",
       "StreamingTV          object\n",
       "StreamingMovies      object\n",
       "Contract             object\n",
       "PaperlessBilling     object\n",
       "PaymentMethod        object\n",
       "MonthlyCharges      float64\n",
       "TotalCharges        float64\n",
       "Churn                object\n",
       "dtype: object"
      ]
     },
     "execution_count": 9,
     "metadata": {},
     "output_type": "execute_result"
    }
   ],
   "source": [
    "df.dtypes"
   ]
  },
  {
   "cell_type": "code",
   "execution_count": 10,
   "metadata": {},
   "outputs": [],
   "source": [
    "tenure_No = df[df[\"Churn\"] == \"No\"].tenure\n",
    "tenure_Yes = df[df[\"Churn\"] == \"Yes\"].tenure"
   ]
  },
  {
   "cell_type": "code",
   "execution_count": 11,
   "metadata": {},
   "outputs": [
    {
     "data": {
      "image/png": "[encoded data removed]",
      "text/plain": [
       "<Figure size 640x480 with 1 Axes>"
      ]
     },
     "metadata": {},
     "output_type": "display_data"
    }
   ],
   "source": [
    "plt.hist([tenure_No , tenure_Yes] , label=[\"Churn_No\" , \"Churn_Yes\"])\n",
    "plt.legend()\n",
    "plt.xlabel(\"No. of tenure(Months)\")\n",
    "plt.ylabel(\"No of customers\")\n",
    "plt.show()"
   ]
  },
  {
   "cell_type": "code",
   "execution_count": 12,
   "metadata": {},
   "outputs": [],
   "source": [
    "TotalCharges_No = df[df[\"Churn\"] == \"No\"].TotalCharges\n",
    "TotalCharges_Yes = df[df[\"Churn\"] == \"Yes\"].TotalCharges"
   ]
  },
  {
   "cell_type": "code",
   "execution_count": 13,
   "metadata": {},
   "outputs": [
    {
     "data": {
      "image/png": "[encoded data removed]",
      "text/plain": [
       "<Figure size 640x480 with 1 Axes>"
      ]
     },
     "metadata": {},
     "output_type": "display_data"
    }
   ],
   "source": [
    "plt.hist([TotalCharges_No , TotalCharges_Yes] , label=[\"Churn_No\" , \"Churn_Yes\"])\n",
    "plt.legend()\n",
    "plt.xlabel(\"TotalCharges\")\n",
    "plt.ylabel(\"No of customers\")\n",
    "plt.show()"
   ]
  },
  {
   "cell_type": "code",
   "execution_count": 14,
   "metadata": {},
   "outputs": [],
   "source": [
    "MonthlyCharges_No = df[df[\"Churn\"] == \"No\"].MonthlyCharges\n",
    "MonthlyCharges_Yes = df[df[\"Churn\"] == \"Yes\"].MonthlyCharges"
   ]
  },
  {
   "cell_type": "code",
   "execution_count": 15,
   "metadata": {},
   "outputs": [
    {
     "data": {
      "image/png": "[encoded data removed]",
      "text/plain": [
       "<Figure size 640x480 with 1 Axes>"
      ]
     },
     "metadata": {},
     "output_type": "display_data"
    }
   ],
   "source": [
    "plt.hist([MonthlyCharges_No , MonthlyCharges_Yes] , label=[\"Churn_No\" , \"Churn_Yes\"])\n",
    "plt.legend()\n",
    "plt.xlabel(\"MonthlyCharges\")\n",
    "plt.ylabel(\"No of customers\")\n",
    "plt.show()"
   ]
  },
  {
   "cell_type": "code",
   "execution_count": 16,
   "metadata": {},
   "outputs": [],
   "source": [
    "def print_unique_col_values(df):\n",
    "       for column in df:\n",
    "            if df[column].dtypes=='object':\n",
    "                print(f'{column}: {df[column].unique()}') "
   ]
  },
  {
   "cell_type": "code",
   "execution_count": 17,
   "metadata": {},
   "outputs": [
    {
     "name": "stdout",
     "output_type": "stream",
     "text": [
      "gender: ['Female' 'Male']\n",
      "Partner: ['Yes' 'No']\n",
      "Dependents: ['No' 'Yes']\n",
      "PhoneService: ['No' 'Yes']\n",
      "MultipleLines: ['No phone service' 'No' 'Yes']\n",
      "InternetService: ['DSL' 'Fiber optic' 'No']\n",
      "OnlineSecurity: ['No' 'Yes' 'No internet service']\n",
      "OnlineBackup: ['Yes' 'No' 'No internet service']\n",
      "DeviceProtection: ['No' 'Yes' 'No internet service']\n",
      "TechSupport: ['No' 'Yes' 'No internet service']\n",
      "StreamingTV: ['No' 'Yes' 'No internet service']\n",
      "StreamingMovies: ['No' 'Yes' 'No internet service']\n",
      "Contract: ['Month-to-month' 'One year' 'Two year']\n",
      "PaperlessBilling: ['Yes' 'No']\n",
      "PaymentMethod: ['Electronic check' 'Mailed check' 'Bank transfer (automatic)'\n",
      " 'Credit card (automatic)']\n",
      "Churn: ['No' 'Yes']\n"
     ]
    }
   ],
   "source": [
    "print_unique_col_values(df)"
   ]
  },
  {
   "cell_type": "code",
   "execution_count": 18,
   "metadata": {},
   "outputs": [],
   "source": [
    "df = df.replace([\"No phone service\" , \"No phone service\" , 'No internet service'] , \"No\" )"
   ]
  },
  {
   "cell_type": "code",
   "execution_count": 19,
   "metadata": {},
   "outputs": [
    {
     "name": "stdout",
     "output_type": "stream",
     "text": [
      "gender: ['Female' 'Male']\n",
      "Partner: ['Yes' 'No']\n",
      "Dependents: ['No' 'Yes']\n",
      "PhoneService: ['No' 'Yes']\n",
      "MultipleLines: ['No' 'Yes']\n",
      "InternetService: ['DSL' 'Fiber optic' 'No']\n",
      "OnlineSecurity: ['No' 'Yes']\n",
      "OnlineBackup: ['Yes' 'No']\n",
      "DeviceProtection: ['No' 'Yes']\n",
      "TechSupport: ['No' 'Yes']\n",
      "StreamingTV: ['No' 'Yes']\n",
      "StreamingMovies: ['No' 'Yes']\n",
      "Contract: ['Month-to-month' 'One year' 'Two year']\n",
      "PaperlessBilling: ['Yes' 'No']\n",
      "PaymentMethod: ['Electronic check' 'Mailed check' 'Bank transfer (automatic)'\n",
      " 'Credit card (automatic)']\n",
      "Churn: ['No' 'Yes']\n"
     ]
    }
   ],
   "source": [
    "print_unique_col_values(df)"
   ]
  },
  {
   "cell_type": "code",
   "execution_count": 20,
   "metadata": {},
   "outputs": [],
   "source": [
    "df = df.replace({\"No\" : 0 , \"Yes\" : 1} )"
   ]
  },
  {
   "cell_type": "code",
   "execution_count": 21,
   "metadata": {},
   "outputs": [
    {
     "name": "stdout",
     "output_type": "stream",
     "text": [
      "gender: ['Female' 'Male']\n",
      "InternetService: ['DSL' 'Fiber optic' 0]\n",
      "Contract: ['Month-to-month' 'One year' 'Two year']\n",
      "PaymentMethod: ['Electronic check' 'Mailed check' 'Bank transfer (automatic)'\n",
      " 'Credit card (automatic)']\n"
     ]
    }
   ],
   "source": [
    "print_unique_col_values(df)"
   ]
  },
  {
   "cell_type": "code",
   "execution_count": 22,
   "metadata": {},
   "outputs": [],
   "source": [
    "df = df.replace({\"Female\" : 0 , \"Male\" : 1} )"
   ]
  },
  {
   "cell_type": "code",
   "execution_count": 23,
   "metadata": {},
   "outputs": [
    {
     "data": {
      "text/plain": [
       "(7032, 20)"
      ]
     },
     "execution_count": 23,
     "metadata": {},
     "output_type": "execute_result"
    }
   ],
   "source": [
    "df.shape"
   ]
  },
  {
   "cell_type": "code",
   "execution_count": 24,
   "metadata": {},
   "outputs": [],
   "source": [
    "df2 = pd.get_dummies(df , columns=[\"InternetService\" ,\"Contract\" , \"PaymentMethod\"])"
   ]
  },
  {
   "cell_type": "code",
   "execution_count": 25,
   "metadata": {},
   "outputs": [
    {
     "data": {
      "text/html": [
       "<div>\n",
       "<style scoped>\n",
       "    .dataframe tbody tr th:only-of-type {\n",
       "        vertical-align: middle;\n",
       "    }\n",
       "\n",
       "    .dataframe tbody tr th {\n",
       "        vertical-align: top;\n",
       "    }\n",
       "\n",
       "    .dataframe thead th {\n",
       "        text-align: right;\n",
       "    }\n",
       "</style>\n",
       "<table border=\"1\" class=\"dataframe\">\n",
       "  <thead>\n",
       "    <tr style=\"text-align: right;\">\n",
       "      <th></th>\n",
       "      <th>gender</th>\n",
       "      <th>SeniorCitizen</th>\n",
       "      <th>Partner</th>\n",
       "      <th>Dependents</th>\n",
       "      <th>tenure</th>\n",
       "      <th>PhoneService</th>\n",
       "      <th>MultipleLines</th>\n",
       "      <th>OnlineSecurity</th>\n",
       "      <th>OnlineBackup</th>\n",
       "      <th>DeviceProtection</th>\n",
       "      <th>...</th>\n",
       "      <th>InternetService_0</th>\n",
       "      <th>InternetService_DSL</th>\n",
       "      <th>InternetService_Fiber optic</th>\n",
       "      <th>Contract_Month-to-month</th>\n",
       "      <th>Contract_One year</th>\n",
       "      <th>Contract_Two year</th>\n",
       "      <th>PaymentMethod_Bank transfer (automatic)</th>\n",
       "      <th>PaymentMethod_Credit card (automatic)</th>\n",
       "      <th>PaymentMethod_Electronic check</th>\n",
       "      <th>PaymentMethod_Mailed check</th>\n",
       "    </tr>\n",
       "  </thead>\n",
       "  <tbody>\n",
       "    <tr>\n",
       "      <th>0</th>\n",
       "      <td>0</td>\n",
       "      <td>0</td>\n",
       "      <td>1</td>\n",
       "      <td>0</td>\n",
       "      <td>1</td>\n",
       "      <td>0</td>\n",
       "      <td>0</td>\n",
       "      <td>0</td>\n",
       "      <td>1</td>\n",
       "      <td>0</td>\n",
       "      <td>...</td>\n",
       "      <td>0</td>\n",
       "      <td>1</td>\n",
       "      <td>0</td>\n",
       "      <td>1</td>\n",
       "      <td>0</td>\n",
       "      <td>0</td>\n",
       "      <td>0</td>\n",
       "      <td>0</td>\n",
       "      <td>1</td>\n",
       "      <td>0</td>\n",
       "    </tr>\n",
       "    <tr>\n",
       "      <th>1</th>\n",
       "      <td>1</td>\n",
       "      <td>0</td>\n",
       "      <td>0</td>\n",
       "      <td>0</td>\n",
       "      <td>34</td>\n",
       "      <td>1</td>\n",
       "      <td>0</td>\n",
       "      <td>1</td>\n",
       "      <td>0</td>\n",
       "      <td>1</td>\n",
       "      <td>...</td>\n",
       "      <td>0</td>\n",
       "      <td>1</td>\n",
       "      <td>0</td>\n",
       "      <td>0</td>\n",
       "      <td>1</td>\n",
       "      <td>0</td>\n",
       "      <td>0</td>\n",
       "      <td>0</td>\n",
       "      <td>0</td>\n",
       "      <td>1</td>\n",
       "    </tr>\n",
       "    <tr>\n",
       "      <th>2</th>\n",
       "      <td>1</td>\n",
       "      <td>0</td>\n",
       "      <td>0</td>\n",
       "      <td>0</td>\n",
       "      <td>2</td>\n",
       "      <td>1</td>\n",
       "      <td>0</td>\n",
       "      <td>1</td>\n",
       "      <td>1</td>\n",
       "      <td>0</td>\n",
       "      <td>...</td>\n",
       "      <td>0</td>\n",
       "      <td>1</td>\n",
       "      <td>0</td>\n",
       "      <td>1</td>\n",
       "      <td>0</td>\n",
       "      <td>0</td>\n",
       "      <td>0</td>\n",
       "      <td>0</td>\n",
       "      <td>0</td>\n",
       "      <td>1</td>\n",
       "    </tr>\n",
       "  </tbody>\n",
       "</table>\n",
       "<p>3 rows × 27 columns</p>\n",
       "</div>"
      ],
      "text/plain": [
       "   gender  SeniorCitizen  Partner  Dependents  tenure  PhoneService  \\\n",
       "0       0              0        1           0       1             0   \n",
       "1       1              0        0           0      34             1   \n",
       "2       1              0        0           0       2             1   \n",
       "\n",
       "   MultipleLines  OnlineSecurity  OnlineBackup  DeviceProtection  ...  \\\n",
       "0              0               0             1                 0  ...   \n",
       "1              0               1             0                 1  ...   \n",
       "2              0               1             1                 0  ...   \n",
       "\n",
       "   InternetService_0  InternetService_DSL  InternetService_Fiber optic  \\\n",
       "0                  0                    1                            0   \n",
       "1                  0                    1                            0   \n",
       "2                  0                    1                            0   \n",
       "\n",
       "   Contract_Month-to-month  Contract_One year  Contract_Two year  \\\n",
       "0                        1                  0                  0   \n",
       "1                        0                  1                  0   \n",
       "2                        1                  0                  0   \n",
       "\n",
       "   PaymentMethod_Bank transfer (automatic)  \\\n",
       "0                                        0   \n",
       "1                                        0   \n",
       "2                                        0   \n",
       "\n",
       "   PaymentMethod_Credit card (automatic)  PaymentMethod_Electronic check  \\\n",
       "0                                      0                               1   \n",
       "1                                      0                               0   \n",
       "2                                      0                               0   \n",
       "\n",
       "   PaymentMethod_Mailed check  \n",
       "0                           0  \n",
       "1                           1  \n",
       "2                           1  \n",
       "\n",
       "[3 rows x 27 columns]"
      ]
     },
     "execution_count": 25,
     "metadata": {},
     "output_type": "execute_result"
    }
   ],
   "source": [
    "df2.head(3)"
   ]
  },
  {
   "cell_type": "code",
   "execution_count": 26,
   "metadata": {},
   "outputs": [
    {
     "data": {
      "text/plain": [
       "(7032, 27)"
      ]
     },
     "execution_count": 26,
     "metadata": {},
     "output_type": "execute_result"
    }
   ],
   "source": [
    "df2.shape"
   ]
  },
  {
   "cell_type": "code",
   "execution_count": 27,
   "metadata": {},
   "outputs": [
    {
     "data": {
      "text/plain": [
       "Index(['gender', 'SeniorCitizen', 'Partner', 'Dependents', 'tenure',\n",
       "       'PhoneService', 'MultipleLines', 'OnlineSecurity', 'OnlineBackup',\n",
       "       'DeviceProtection', 'TechSupport', 'StreamingTV', 'StreamingMovies',\n",
       "       'PaperlessBilling', 'MonthlyCharges', 'TotalCharges', 'Churn',\n",
       "       'InternetService_0', 'InternetService_DSL',\n",
       "       'InternetService_Fiber optic', 'Contract_Month-to-month',\n",
       "       'Contract_One year', 'Contract_Two year',\n",
       "       'PaymentMethod_Bank transfer (automatic)',\n",
       "       'PaymentMethod_Credit card (automatic)',\n",
       "       'PaymentMethod_Electronic check', 'PaymentMethod_Mailed check'],\n",
       "      dtype='object')"
      ]
     },
     "execution_count": 27,
     "metadata": {},
     "output_type": "execute_result"
    }
   ],
   "source": [
    "df2.columns"
   ]
  },
  {
   "cell_type": "code",
   "execution_count": 28,
   "metadata": {},
   "outputs": [
    {
     "name": "stdout",
     "output_type": "stream",
     "text": [
      "gender:[0 1]\n",
      "SeniorCitizen:[0 1]\n",
      "Partner:[1 0]\n",
      "Dependents:[0 1]\n",
      "tenure:[ 1 34  2 45  8 22 10 28 62 13 16 58 49 25 69 52 71 21 12 30 47 72 17 27\n",
      "  5 46 11 70 63 43 15 60 18 66  9  3 31 50 64 56  7 42 35 48 29 65 38 68\n",
      " 32 55 37 36 41  6  4 33 67 23 57 61 14 20 53 40 59 24 44 19 54 51 26 39]\n",
      "PhoneService:[0 1]\n",
      "MultipleLines:[0 1]\n",
      "OnlineSecurity:[0 1]\n",
      "OnlineBackup:[1 0]\n",
      "DeviceProtection:[0 1]\n",
      "TechSupport:[0 1]\n",
      "StreamingTV:[0 1]\n",
      "StreamingMovies:[0 1]\n",
      "PaperlessBilling:[1 0]\n",
      "MonthlyCharges:[29.85 56.95 53.85 ... 63.1  44.2  78.7 ]\n",
      "TotalCharges:[  29.85 1889.5   108.15 ...  346.45  306.6  6844.5 ]\n",
      "Churn:[0 1]\n",
      "InternetService_0:[0 1]\n",
      "InternetService_DSL:[1 0]\n",
      "InternetService_Fiber optic:[0 1]\n",
      "Contract_Month-to-month:[1 0]\n",
      "Contract_One year:[0 1]\n",
      "Contract_Two year:[0 1]\n",
      "PaymentMethod_Bank transfer (automatic):[0 1]\n",
      "PaymentMethod_Credit card (automatic):[0 1]\n",
      "PaymentMethod_Electronic check:[1 0]\n",
      "PaymentMethod_Mailed check:[0 1]\n"
     ]
    }
   ],
   "source": [
    "for i in df2:\n",
    "    print(f'{i}:{df2[i].unique()}')\n",
    "    "
   ]
  },
  {
   "cell_type": "code",
   "execution_count": 29,
   "metadata": {},
   "outputs": [],
   "source": [
    "from sklearn.preprocessing import MinMaxScaler"
   ]
  },
  {
   "cell_type": "code",
   "execution_count": 30,
   "metadata": {},
   "outputs": [],
   "source": [
    "obj = MinMaxScaler()\n",
    "col = [\"tenure\" , \"MonthlyCharges\" ,\"TotalCharges\" ]"
   ]
  },
  {
   "cell_type": "code",
   "execution_count": 31,
   "metadata": {},
   "outputs": [],
   "source": [
    "df2[col] = obj.fit_transform(df2[col])"
   ]
  },
  {
   "cell_type": "code",
   "execution_count": 32,
   "metadata": {},
   "outputs": [
    {
     "data": {
      "text/html": [
       "<div>\n",
       "<style scoped>\n",
       "    .dataframe tbody tr th:only-of-type {\n",
       "        vertical-align: middle;\n",
       "    }\n",
       "\n",
       "    .dataframe tbody tr th {\n",
       "        vertical-align: top;\n",
       "    }\n",
       "\n",
       "    .dataframe thead th {\n",
       "        text-align: right;\n",
       "    }\n",
       "</style>\n",
       "<table border=\"1\" class=\"dataframe\">\n",
       "  <thead>\n",
       "    <tr style=\"text-align: right;\">\n",
       "      <th></th>\n",
       "      <th>gender</th>\n",
       "      <th>SeniorCitizen</th>\n",
       "      <th>Partner</th>\n",
       "      <th>Dependents</th>\n",
       "      <th>tenure</th>\n",
       "      <th>PhoneService</th>\n",
       "      <th>MultipleLines</th>\n",
       "      <th>OnlineSecurity</th>\n",
       "      <th>OnlineBackup</th>\n",
       "      <th>DeviceProtection</th>\n",
       "      <th>...</th>\n",
       "      <th>InternetService_0</th>\n",
       "      <th>InternetService_DSL</th>\n",
       "      <th>InternetService_Fiber optic</th>\n",
       "      <th>Contract_Month-to-month</th>\n",
       "      <th>Contract_One year</th>\n",
       "      <th>Contract_Two year</th>\n",
       "      <th>PaymentMethod_Bank transfer (automatic)</th>\n",
       "      <th>PaymentMethod_Credit card (automatic)</th>\n",
       "      <th>PaymentMethod_Electronic check</th>\n",
       "      <th>PaymentMethod_Mailed check</th>\n",
       "    </tr>\n",
       "  </thead>\n",
       "  <tbody>\n",
       "    <tr>\n",
       "      <th>0</th>\n",
       "      <td>0</td>\n",
       "      <td>0</td>\n",
       "      <td>1</td>\n",
       "      <td>0</td>\n",
       "      <td>0.000000</td>\n",
       "      <td>0</td>\n",
       "      <td>0</td>\n",
       "      <td>0</td>\n",
       "      <td>1</td>\n",
       "      <td>0</td>\n",
       "      <td>...</td>\n",
       "      <td>0</td>\n",
       "      <td>1</td>\n",
       "      <td>0</td>\n",
       "      <td>1</td>\n",
       "      <td>0</td>\n",
       "      <td>0</td>\n",
       "      <td>0</td>\n",
       "      <td>0</td>\n",
       "      <td>1</td>\n",
       "      <td>0</td>\n",
       "    </tr>\n",
       "    <tr>\n",
       "      <th>1</th>\n",
       "      <td>1</td>\n",
       "      <td>0</td>\n",
       "      <td>0</td>\n",
       "      <td>0</td>\n",
       "      <td>0.464789</td>\n",
       "      <td>1</td>\n",
       "      <td>0</td>\n",
       "      <td>1</td>\n",
       "      <td>0</td>\n",
       "      <td>1</td>\n",
       "      <td>...</td>\n",
       "      <td>0</td>\n",
       "      <td>1</td>\n",
       "      <td>0</td>\n",
       "      <td>0</td>\n",
       "      <td>1</td>\n",
       "      <td>0</td>\n",
       "      <td>0</td>\n",
       "      <td>0</td>\n",
       "      <td>0</td>\n",
       "      <td>1</td>\n",
       "    </tr>\n",
       "    <tr>\n",
       "      <th>2</th>\n",
       "      <td>1</td>\n",
       "      <td>0</td>\n",
       "      <td>0</td>\n",
       "      <td>0</td>\n",
       "      <td>0.014085</td>\n",
       "      <td>1</td>\n",
       "      <td>0</td>\n",
       "      <td>1</td>\n",
       "      <td>1</td>\n",
       "      <td>0</td>\n",
       "      <td>...</td>\n",
       "      <td>0</td>\n",
       "      <td>1</td>\n",
       "      <td>0</td>\n",
       "      <td>1</td>\n",
       "      <td>0</td>\n",
       "      <td>0</td>\n",
       "      <td>0</td>\n",
       "      <td>0</td>\n",
       "      <td>0</td>\n",
       "      <td>1</td>\n",
       "    </tr>\n",
       "    <tr>\n",
       "      <th>3</th>\n",
       "      <td>1</td>\n",
       "      <td>0</td>\n",
       "      <td>0</td>\n",
       "      <td>0</td>\n",
       "      <td>0.619718</td>\n",
       "      <td>0</td>\n",
       "      <td>0</td>\n",
       "      <td>1</td>\n",
       "      <td>0</td>\n",
       "      <td>1</td>\n",
       "      <td>...</td>\n",
       "      <td>0</td>\n",
       "      <td>1</td>\n",
       "      <td>0</td>\n",
       "      <td>0</td>\n",
       "      <td>1</td>\n",
       "      <td>0</td>\n",
       "      <td>1</td>\n",
       "      <td>0</td>\n",
       "      <td>0</td>\n",
       "      <td>0</td>\n",
       "    </tr>\n",
       "    <tr>\n",
       "      <th>4</th>\n",
       "      <td>0</td>\n",
       "      <td>0</td>\n",
       "      <td>0</td>\n",
       "      <td>0</td>\n",
       "      <td>0.014085</td>\n",
       "      <td>1</td>\n",
       "      <td>0</td>\n",
       "      <td>0</td>\n",
       "      <td>0</td>\n",
       "      <td>0</td>\n",
       "      <td>...</td>\n",
       "      <td>0</td>\n",
       "      <td>0</td>\n",
       "      <td>1</td>\n",
       "      <td>1</td>\n",
       "      <td>0</td>\n",
       "      <td>0</td>\n",
       "      <td>0</td>\n",
       "      <td>0</td>\n",
       "      <td>1</td>\n",
       "      <td>0</td>\n",
       "    </tr>\n",
       "  </tbody>\n",
       "</table>\n",
       "<p>5 rows × 27 columns</p>\n",
       "</div>"
      ],
      "text/plain": [
       "   gender  SeniorCitizen  Partner  Dependents    tenure  PhoneService  \\\n",
       "0       0              0        1           0  0.000000             0   \n",
       "1       1              0        0           0  0.464789             1   \n",
       "2       1              0        0           0  0.014085             1   \n",
       "3       1              0        0           0  0.619718             0   \n",
       "4       0              0        0           0  0.014085             1   \n",
       "\n",
       "   MultipleLines  OnlineSecurity  OnlineBackup  DeviceProtection  ...  \\\n",
       "0              0               0             1                 0  ...   \n",
       "1              0               1             0                 1  ...   \n",
       "2              0               1             1                 0  ...   \n",
       "3              0               1             0                 1  ...   \n",
       "4              0               0             0                 0  ...   \n",
       "\n",
       "   InternetService_0  InternetService_DSL  InternetService_Fiber optic  \\\n",
       "0                  0                    1                            0   \n",
       "1                  0                    1                            0   \n",
       "2                  0                    1                            0   \n",
       "3                  0                    1                            0   \n",
       "4                  0                    0                            1   \n",
       "\n",
       "   Contract_Month-to-month  Contract_One year  Contract_Two year  \\\n",
       "0                        1                  0                  0   \n",
       "1                        0                  1                  0   \n",
       "2                        1                  0                  0   \n",
       "3                        0                  1                  0   \n",
       "4                        1                  0                  0   \n",
       "\n",
       "   PaymentMethod_Bank transfer (automatic)  \\\n",
       "0                                        0   \n",
       "1                                        0   \n",
       "2                                        0   \n",
       "3                                        1   \n",
       "4                                        0   \n",
       "\n",
       "   PaymentMethod_Credit card (automatic)  PaymentMethod_Electronic check  \\\n",
       "0                                      0                               1   \n",
       "1                                      0                               0   \n",
       "2                                      0                               0   \n",
       "3                                      0                               0   \n",
       "4                                      0                               1   \n",
       "\n",
       "   PaymentMethod_Mailed check  \n",
       "0                           0  \n",
       "1                           1  \n",
       "2                           1  \n",
       "3                           0  \n",
       "4                           0  \n",
       "\n",
       "[5 rows x 27 columns]"
      ]
     },
     "execution_count": 32,
     "metadata": {},
     "output_type": "execute_result"
    }
   ],
   "source": [
    "df2.head(5)"
   ]
  },
  {
   "cell_type": "code",
   "execution_count": 33,
   "metadata": {},
   "outputs": [
    {
     "data": {
      "text/plain": [
       "(7032, 27)"
      ]
     },
     "execution_count": 33,
     "metadata": {},
     "output_type": "execute_result"
    }
   ],
   "source": [
    "df2.shape"
   ]
  },
  {
   "cell_type": "code",
   "execution_count": 34,
   "metadata": {},
   "outputs": [],
   "source": [
    "from sklearn.model_selection import train_test_split\n",
    "X_train , X_test , y_train , y_test = train_test_split(df2.drop(\"Churn\" , axis=1) , df2[\"Churn\"] , test_size=0.27)"
   ]
  },
  {
   "cell_type": "code",
   "execution_count": 35,
   "metadata": {},
   "outputs": [],
   "source": [
    "import tensorflow as tf\n",
    "from tensorflow import keras"
   ]
  },
  {
   "cell_type": "code",
   "execution_count": 36,
   "metadata": {},
   "outputs": [],
   "source": [
    "model = keras.Sequential([\n",
    "    keras.layers.Dense(20 , input_shape = (26 , ) , activation=\"relu\"),\n",
    "    keras.layers.Dense(1 , activation=\"sigmoid\"),\n",
    "])\n",
    "model.compile(optimizer=\"SGD\" , loss=\"binary_crossentropy\" , metrics=[\"accuracy\"])\n"
   ]
  },
  {
   "cell_type": "code",
   "execution_count": 37,
   "metadata": {},
   "outputs": [
    {
     "name": "stdout",
     "output_type": "stream",
     "text": [
      "Epoch 1/50\n",
      "161/161 [==============================] - 4s 6ms/step - loss: 0.5593 - accuracy: 0.7290\n",
      "Epoch 2/50\n",
      "161/161 [==============================] - 1s 5ms/step - loss: 0.5082 - accuracy: 0.7489\n",
      "Epoch 3/50\n",
      "161/161 [==============================] - 1s 7ms/step - loss: 0.4829 - accuracy: 0.7660\n",
      "Epoch 4/50\n",
      "161/161 [==============================] - 1s 5ms/step - loss: 0.4685 - accuracy: 0.7746\n",
      "Epoch 5/50\n",
      "161/161 [==============================] - 1s 5ms/step - loss: 0.4592 - accuracy: 0.7801\n",
      "Epoch 6/50\n",
      "161/161 [==============================] - 1s 6ms/step - loss: 0.4532 - accuracy: 0.7839\n",
      "Epoch 7/50\n",
      "161/161 [==============================] - 1s 5ms/step - loss: 0.4486 - accuracy: 0.7861\n",
      "Epoch 8/50\n",
      "161/161 [==============================] - 1s 6ms/step - loss: 0.4450 - accuracy: 0.7871\n",
      "Epoch 9/50\n",
      "161/161 [==============================] - 1s 6ms/step - loss: 0.4421 - accuracy: 0.7884\n",
      "Epoch 10/50\n",
      "161/161 [==============================] - 1s 5ms/step - loss: 0.4399 - accuracy: 0.7890\n",
      "Epoch 11/50\n",
      "161/161 [==============================] - 1s 7ms/step - loss: 0.4379 - accuracy: 0.7912\n",
      "Epoch 12/50\n",
      "161/161 [==============================] - 1s 6ms/step - loss: 0.4363 - accuracy: 0.7915\n",
      "Epoch 13/50\n",
      "161/161 [==============================] - 1s 6ms/step - loss: 0.4347 - accuracy: 0.7900\n",
      "Epoch 14/50\n",
      "161/161 [==============================] - 1s 5ms/step - loss: 0.4335 - accuracy: 0.7914\n",
      "Epoch 15/50\n",
      "161/161 [==============================] - 1s 6ms/step - loss: 0.4324 - accuracy: 0.7929\n",
      "Epoch 16/50\n",
      "161/161 [==============================] - 1s 5ms/step - loss: 0.4312 - accuracy: 0.7951\n",
      "Epoch 17/50\n",
      "161/161 [==============================] - 1s 5ms/step - loss: 0.4307 - accuracy: 0.7933\n",
      "Epoch 18/50\n",
      "161/161 [==============================] - 1s 6ms/step - loss: 0.4297 - accuracy: 0.7933\n",
      "Epoch 19/50\n",
      "161/161 [==============================] - 1s 6ms/step - loss: 0.4290 - accuracy: 0.7945\n",
      "Epoch 20/50\n",
      "161/161 [==============================] - 1s 6ms/step - loss: 0.4284 - accuracy: 0.7952\n",
      "Epoch 21/50\n",
      "161/161 [==============================] - 1s 5ms/step - loss: 0.4277 - accuracy: 0.7951\n",
      "Epoch 22/50\n",
      "161/161 [==============================] - 1s 5ms/step - loss: 0.4272 - accuracy: 0.7956\n",
      "Epoch 23/50\n",
      "161/161 [==============================] - 1s 5ms/step - loss: 0.4270 - accuracy: 0.7943\n",
      "Epoch 24/50\n",
      "161/161 [==============================] - 1s 5ms/step - loss: 0.4264 - accuracy: 0.7956\n",
      "Epoch 25/50\n",
      "161/161 [==============================] - 1s 7ms/step - loss: 0.4259 - accuracy: 0.7964\n",
      "Epoch 26/50\n",
      "161/161 [==============================] - 1s 5ms/step - loss: 0.4256 - accuracy: 0.7962\n",
      "Epoch 27/50\n",
      "161/161 [==============================] - 1s 6ms/step - loss: 0.4253 - accuracy: 0.7970\n",
      "Epoch 28/50\n",
      "161/161 [==============================] - 1s 5ms/step - loss: 0.4250 - accuracy: 0.7951\n",
      "Epoch 29/50\n",
      "161/161 [==============================] - 1s 5ms/step - loss: 0.4247 - accuracy: 0.7966\n",
      "Epoch 30/50\n",
      "161/161 [==============================] - 1s 6ms/step - loss: 0.4242 - accuracy: 0.7958\n",
      "Epoch 31/50\n",
      "161/161 [==============================] - 1s 5ms/step - loss: 0.4243 - accuracy: 0.7984\n",
      "Epoch 32/50\n",
      "161/161 [==============================] - 1s 6ms/step - loss: 0.4240 - accuracy: 0.7956\n",
      "Epoch 33/50\n",
      "161/161 [==============================] - 1s 7ms/step - loss: 0.4237 - accuracy: 0.7974\n",
      "Epoch 34/50\n",
      "161/161 [==============================] - 1s 8ms/step - loss: 0.4235 - accuracy: 0.7960\n",
      "Epoch 35/50\n",
      "161/161 [==============================] - 1s 8ms/step - loss: 0.4233 - accuracy: 0.7962\n",
      "Epoch 36/50\n",
      "161/161 [==============================] - 1s 6ms/step - loss: 0.4231 - accuracy: 0.7982\n",
      "Epoch 37/50\n",
      "161/161 [==============================] - 1s 5ms/step - loss: 0.4230 - accuracy: 0.7958\n",
      "Epoch 38/50\n",
      "161/161 [==============================] - 1s 8ms/step - loss: 0.4223 - accuracy: 0.7993\n",
      "Epoch 39/50\n",
      "161/161 [==============================] - 1s 7ms/step - loss: 0.4227 - accuracy: 0.7976\n",
      "Epoch 40/50\n",
      "161/161 [==============================] - 1s 8ms/step - loss: 0.4225 - accuracy: 0.7972\n",
      "Epoch 41/50\n",
      "161/161 [==============================] - 1s 5ms/step - loss: 0.4222 - accuracy: 0.7970\n",
      "Epoch 42/50\n",
      "161/161 [==============================] - 1s 5ms/step - loss: 0.4221 - accuracy: 0.7972\n",
      "Epoch 43/50\n",
      "161/161 [==============================] - 1s 7ms/step - loss: 0.4222 - accuracy: 0.7970\n",
      "Epoch 44/50\n",
      "161/161 [==============================] - 1s 7ms/step - loss: 0.4219 - accuracy: 0.7974\n",
      "Epoch 45/50\n",
      "161/161 [==============================] - 1s 7ms/step - loss: 0.4218 - accuracy: 0.7986\n",
      "Epoch 46/50\n",
      "161/161 [==============================] - 1s 5ms/step - loss: 0.4217 - accuracy: 0.7991\n",
      "Epoch 47/50\n",
      "161/161 [==============================] - 1s 7ms/step - loss: 0.4215 - accuracy: 0.8001\n",
      "Epoch 48/50\n",
      "161/161 [==============================] - 1s 6ms/step - loss: 0.4215 - accuracy: 0.7984\n",
      "Epoch 49/50\n",
      "161/161 [==============================] - 1s 5ms/step - loss: 0.4212 - accuracy: 0.7982\n",
      "Epoch 50/50\n",
      "161/161 [==============================] - 1s 7ms/step - loss: 0.4211 - accuracy: 0.7984\n"
     ]
    },
    {
     "data": {
      "text/plain": [
       "<keras.callbacks.History at 0x26dc1b8e290>"
      ]
     },
     "execution_count": 37,
     "metadata": {},
     "output_type": "execute_result"
    }
   ],
   "source": [
    "model.fit(X_train , y_train , epochs=50)"
   ]
  },
  {
   "cell_type": "code",
   "execution_count": 38,
   "metadata": {},
   "outputs": [
    {
     "name": "stdout",
     "output_type": "stream",
     "text": [
      "60/60 [==============================] - 1s 6ms/step - loss: 0.4074 - accuracy: 0.8025\n"
     ]
    },
    {
     "data": {
      "text/plain": [
       "[0.4074297547340393, 0.802527666091919]"
      ]
     },
     "execution_count": 38,
     "metadata": {},
     "output_type": "execute_result"
    }
   ],
   "source": [
    "model.evaluate(X_test , y_test)"
   ]
  },
  {
   "cell_type": "code",
   "execution_count": 39,
   "metadata": {},
   "outputs": [
    {
     "name": "stdout",
     "output_type": "stream",
     "text": [
      "60/60 [==============================] - 1s 6ms/step\n"
     ]
    }
   ],
   "source": [
    "y_predicted = model.predict(X_test)"
   ]
  },
  {
   "cell_type": "code",
   "execution_count": 40,
   "metadata": {},
   "outputs": [
    {
     "data": {
      "text/plain": [
       "array([[0.36662927],\n",
       "       [0.39026773],\n",
       "       [0.27821103],\n",
       "       [0.47489828],\n",
       "       [0.50478804]], dtype=float32)"
      ]
     },
     "execution_count": 40,
     "metadata": {},
     "output_type": "execute_result"
    }
   ],
   "source": [
    "y_predicted[:5]"
   ]
  },
  {
   "cell_type": "code",
   "execution_count": 41,
   "metadata": {},
   "outputs": [],
   "source": [
    "y_predicted = [ 0 if i < 0.5  else 1 for i in y_predicted  ]"
   ]
  },
  {
   "cell_type": "code",
   "execution_count": 42,
   "metadata": {},
   "outputs": [
    {
     "data": {
      "text/plain": [
       "[0, 0, 0, 0, 1]"
      ]
     },
     "execution_count": 42,
     "metadata": {},
     "output_type": "execute_result"
    }
   ],
   "source": [
    "y_predicted[:5]"
   ]
  },
  {
   "cell_type": "code",
   "execution_count": 43,
   "metadata": {},
   "outputs": [
    {
     "data": {
      "text/plain": [
       "5469    0\n",
       "2735    0\n",
       "5295    0\n",
       "1670    1\n",
       "2365    0\n",
       "Name: Churn, dtype: int64"
      ]
     },
     "execution_count": 43,
     "metadata": {},
     "output_type": "execute_result"
    }
   ],
   "source": [
    "y_test[:5]"
   ]
  },
  {
   "cell_type": "code",
   "execution_count": 44,
   "metadata": {},
   "outputs": [],
   "source": [
    "from sklearn.metrics import classification_report , confusion_matrix"
   ]
  },
  {
   "cell_type": "code",
   "execution_count": 45,
   "metadata": {},
   "outputs": [
    {
     "name": "stdout",
     "output_type": "stream",
     "text": [
      "              precision    recall  f1-score   support\n",
      "\n",
      "           0       0.86      0.89      0.87      1430\n",
      "           1       0.61      0.55      0.58       469\n",
      "\n",
      "    accuracy                           0.80      1899\n",
      "   macro avg       0.73      0.72      0.72      1899\n",
      "weighted avg       0.80      0.80      0.80      1899\n",
      "\n"
     ]
    }
   ],
   "source": [
    "print(classification_report(y_test , y_predicted))"
   ]
  },
  {
   "cell_type": "code",
   "execution_count": 46,
   "metadata": {},
   "outputs": [],
   "source": [
    "ax = confusion_matrix(y_test , y_predicted)"
   ]
  },
  {
   "cell_type": "code",
   "execution_count": 47,
   "metadata": {},
   "outputs": [],
   "source": [
    "import seaborn as sns"
   ]
  },
  {
   "cell_type": "code",
   "execution_count": 48,
   "metadata": {},
   "outputs": [
    {
     "data": {
      "text/plain": [
       "<AxesSubplot:>"
      ]
     },
     "execution_count": 48,
     "metadata": {},
     "output_type": "execute_result"
    },
    {
     "data": {
      "image/png": "[encoded data removed]",
      "text/plain": [
       "<Figure size 640x480 with 2 Axes>"
      ]
     },
     "metadata": {},
     "output_type": "display_data"
    }
   ],
   "source": [
    "sns.heatmap(ax , annot=True , fmt=\"d\")"
   ]
  },
  {
   "cell_type": "code",
   "execution_count": 49,
   "metadata": {},
   "outputs": [
    {
     "data": {
      "text/plain": [
       "(5133, 26)"
      ]
     },
     "execution_count": 49,
     "metadata": {},
     "output_type": "execute_result"
    }
   ],
   "source": [
    "X_train.shape"
   ]
  },
  {
   "cell_type": "code",
   "execution_count": 64,
   "metadata": {},
   "outputs": [],
   "source": [
    "def return_y_predicted(X_train , y_train , X_test = X_test):\n",
    "    # X_train = df.drop(\"Churn\" , axis=1)\n",
    "    # y_train = df[\"Churn\"]\n",
    "    model = keras.Sequential([\n",
    "    keras.layers.Dense(20 , input_shape = (26 , ) , activation=\"relu\"),\n",
    "    keras.layers.Dense(1 , activation=\"sigmoid\"),\n",
    "    ])\n",
    "    model.compile(optimizer=\"SGD\" , loss=\"binary_crossentropy\" , metrics=[\"accuracy\"])\n",
    "    model.fit(X_train , y_train , epochs=50)\n",
    "    y_predicted = model.predict(X_test)\n",
    "    return np.round(y_predicted)"
   ]
  },
  {
   "cell_type": "code",
   "execution_count": 52,
   "metadata": {},
   "outputs": [],
   "source": [
    "temp = pd.concat([X_train , y_train] , axis=1)"
   ]
  },
  {
   "cell_type": "code",
   "execution_count": 67,
   "metadata": {},
   "outputs": [],
   "source": [
    "temp_No = temp[temp[\"Churn\"] == 0]\n",
    "temp_Yes = temp[temp[\"Churn\"] == 1]"
   ]
  },
  {
   "cell_type": "code",
   "execution_count": 68,
   "metadata": {},
   "outputs": [
    {
     "data": {
      "text/plain": [
       "((3733, 27), (1400, 27))"
      ]
     },
     "execution_count": 68,
     "metadata": {},
     "output_type": "execute_result"
    }
   ],
   "source": [
    "temp_No.shape , temp_Yes.shape"
   ]
  },
  {
   "cell_type": "markdown",
   "metadata": {},
   "source": [
    "# oversampling (SMOTE)"
   ]
  },
  {
   "cell_type": "code",
   "execution_count": 60,
   "metadata": {},
   "outputs": [],
   "source": [
    "from imblearn.over_sampling import SMOTE"
   ]
  },
  {
   "cell_type": "code",
   "execution_count": 61,
   "metadata": {},
   "outputs": [],
   "source": [
    "obj = SMOTE(sampling_strategy=\"minority\")"
   ]
  },
  {
   "cell_type": "code",
   "execution_count": 62,
   "metadata": {},
   "outputs": [],
   "source": [
    "X_train_sm , y_train_sm = obj.fit_resample(X_train , y_train)"
   ]
  },
  {
   "cell_type": "code",
   "execution_count": 63,
   "metadata": {},
   "outputs": [
    {
     "data": {
      "text/plain": [
       "0    3733\n",
       "1    3733\n",
       "Name: Churn, dtype: int64"
      ]
     },
     "execution_count": 63,
     "metadata": {},
     "output_type": "execute_result"
    }
   ],
   "source": [
    "y_train_sm.value_counts()"
   ]
  },
  {
   "cell_type": "code",
   "execution_count": 65,
   "metadata": {},
   "outputs": [
    {
     "name": "stdout",
     "output_type": "stream",
     "text": [
      "Epoch 1/50\n",
      "234/234 [==============================] - 2s 6ms/step - loss: 0.6500 - accuracy: 0.6456\n",
      "Epoch 2/50\n",
      "234/234 [==============================] - 1s 6ms/step - loss: 0.5728 - accuracy: 0.7499\n",
      "Epoch 3/50\n",
      "234/234 [==============================] - 1s 6ms/step - loss: 0.5301 - accuracy: 0.7624\n",
      "Epoch 4/50\n",
      "234/234 [==============================] - 1s 5ms/step - loss: 0.5083 - accuracy: 0.7636\n",
      "Epoch 5/50\n",
      "234/234 [==============================] - 1s 6ms/step - loss: 0.4971 - accuracy: 0.7656\n",
      "Epoch 6/50\n",
      "234/234 [==============================] - 1s 5ms/step - loss: 0.4905 - accuracy: 0.7659\n",
      "Epoch 7/50\n",
      "234/234 [==============================] - 1s 6ms/step - loss: 0.4861 - accuracy: 0.7673\n",
      "Epoch 8/50\n",
      "234/234 [==============================] - 1s 6ms/step - loss: 0.4828 - accuracy: 0.7680\n",
      "Epoch 9/50\n",
      "234/234 [==============================] - 1s 5ms/step - loss: 0.4800 - accuracy: 0.7700\n",
      "Epoch 10/50\n",
      "234/234 [==============================] - 1s 6ms/step - loss: 0.4777 - accuracy: 0.7712\n",
      "Epoch 11/50\n",
      "234/234 [==============================] - 1s 6ms/step - loss: 0.4757 - accuracy: 0.7723\n",
      "Epoch 12/50\n",
      "234/234 [==============================] - 1s 5ms/step - loss: 0.4740 - accuracy: 0.7744\n",
      "Epoch 13/50\n",
      "234/234 [==============================] - 1s 6ms/step - loss: 0.4728 - accuracy: 0.7740\n",
      "Epoch 14/50\n",
      "234/234 [==============================] - 1s 6ms/step - loss: 0.4716 - accuracy: 0.7742\n",
      "Epoch 15/50\n",
      "234/234 [==============================] - 1s 5ms/step - loss: 0.4705 - accuracy: 0.7750\n",
      "Epoch 16/50\n",
      "234/234 [==============================] - 1s 6ms/step - loss: 0.4696 - accuracy: 0.7756\n",
      "Epoch 17/50\n",
      "234/234 [==============================] - 1s 5ms/step - loss: 0.4688 - accuracy: 0.7752\n",
      "Epoch 18/50\n",
      "234/234 [==============================] - 1s 6ms/step - loss: 0.4679 - accuracy: 0.7755\n",
      "Epoch 19/50\n",
      "234/234 [==============================] - 1s 6ms/step - loss: 0.4671 - accuracy: 0.7763\n",
      "Epoch 20/50\n",
      "234/234 [==============================] - 1s 5ms/step - loss: 0.4665 - accuracy: 0.7770\n",
      "Epoch 21/50\n",
      "234/234 [==============================] - 1s 6ms/step - loss: 0.4659 - accuracy: 0.7769\n",
      "Epoch 22/50\n",
      "234/234 [==============================] - 1s 5ms/step - loss: 0.4649 - accuracy: 0.7765\n",
      "Epoch 23/50\n",
      "234/234 [==============================] - 1s 5ms/step - loss: 0.4646 - accuracy: 0.7783\n",
      "Epoch 24/50\n",
      "234/234 [==============================] - 2s 6ms/step - loss: 0.4642 - accuracy: 0.7786\n",
      "Epoch 25/50\n",
      "234/234 [==============================] - 1s 6ms/step - loss: 0.4635 - accuracy: 0.7771\n",
      "Epoch 26/50\n",
      "234/234 [==============================] - 1s 6ms/step - loss: 0.4630 - accuracy: 0.7779\n",
      "Epoch 27/50\n",
      "234/234 [==============================] - 1s 6ms/step - loss: 0.4628 - accuracy: 0.7793\n",
      "Epoch 28/50\n",
      "234/234 [==============================] - 1s 6ms/step - loss: 0.4622 - accuracy: 0.7799\n",
      "Epoch 29/50\n",
      "234/234 [==============================] - 1s 5ms/step - loss: 0.4617 - accuracy: 0.7798\n",
      "Epoch 30/50\n",
      "234/234 [==============================] - 1s 6ms/step - loss: 0.4613 - accuracy: 0.7794\n",
      "Epoch 31/50\n",
      "234/234 [==============================] - 1s 6ms/step - loss: 0.4607 - accuracy: 0.7809\n",
      "Epoch 32/50\n",
      "234/234 [==============================] - 1s 5ms/step - loss: 0.4605 - accuracy: 0.7805\n",
      "Epoch 33/50\n",
      "234/234 [==============================] - 1s 6ms/step - loss: 0.4598 - accuracy: 0.7817\n",
      "Epoch 34/50\n",
      "234/234 [==============================] - 1s 5ms/step - loss: 0.4595 - accuracy: 0.7813\n",
      "Epoch 35/50\n",
      "234/234 [==============================] - 1s 6ms/step - loss: 0.4592 - accuracy: 0.7813\n",
      "Epoch 36/50\n",
      "234/234 [==============================] - 1s 6ms/step - loss: 0.4587 - accuracy: 0.7803\n",
      "Epoch 37/50\n",
      "234/234 [==============================] - 1s 6ms/step - loss: 0.4582 - accuracy: 0.7815\n",
      "Epoch 38/50\n",
      "234/234 [==============================] - 1s 5ms/step - loss: 0.4578 - accuracy: 0.7814\n",
      "Epoch 39/50\n",
      "234/234 [==============================] - 1s 6ms/step - loss: 0.4575 - accuracy: 0.7799\n",
      "Epoch 40/50\n",
      "234/234 [==============================] - 1s 5ms/step - loss: 0.4570 - accuracy: 0.7821\n",
      "Epoch 41/50\n",
      "234/234 [==============================] - 1s 6ms/step - loss: 0.4566 - accuracy: 0.7815\n",
      "Epoch 42/50\n",
      "234/234 [==============================] - 1s 6ms/step - loss: 0.4562 - accuracy: 0.7840\n",
      "Epoch 43/50\n",
      "234/234 [==============================] - 1s 5ms/step - loss: 0.4557 - accuracy: 0.7807\n",
      "Epoch 44/50\n",
      "234/234 [==============================] - 1s 6ms/step - loss: 0.4556 - accuracy: 0.7829\n",
      "Epoch 45/50\n",
      "234/234 [==============================] - 1s 6ms/step - loss: 0.4551 - accuracy: 0.7823\n",
      "Epoch 46/50\n",
      "234/234 [==============================] - 1s 5ms/step - loss: 0.4546 - accuracy: 0.7815\n",
      "Epoch 47/50\n",
      "234/234 [==============================] - 1s 5ms/step - loss: 0.4543 - accuracy: 0.7825\n",
      "Epoch 48/50\n",
      "234/234 [==============================] - 1s 5ms/step - loss: 0.4539 - accuracy: 0.7819\n",
      "Epoch 49/50\n",
      "234/234 [==============================] - 1s 6ms/step - loss: 0.4535 - accuracy: 0.7832\n",
      "Epoch 50/50\n",
      "234/234 [==============================] - 1s 5ms/step - loss: 0.4525 - accuracy: 0.7830\n",
      "60/60 [==============================] - 0s 4ms/step\n"
     ]
    }
   ],
   "source": [
    "y_pre_smote = return_y_predicted(X_train_sm , y_train_sm)"
   ]
  },
  {
   "cell_type": "code",
   "execution_count": 66,
   "metadata": {},
   "outputs": [
    {
     "name": "stdout",
     "output_type": "stream",
     "text": [
      "              precision    recall  f1-score   support\n",
      "\n",
      "           0       0.90      0.79      0.84      1430\n",
      "           1       0.54      0.73      0.62       469\n",
      "\n",
      "    accuracy                           0.78      1899\n",
      "   macro avg       0.72      0.76      0.73      1899\n",
      "weighted avg       0.81      0.78      0.79      1899\n",
      "\n"
     ]
    }
   ],
   "source": [
    "print(classification_report(y_test , y_pre_smote))"
   ]
  },
  {
   "cell_type": "markdown",
   "metadata": {},
   "source": [
    "# ensembling"
   ]
  },
  {
   "cell_type": "code",
   "execution_count": 69,
   "metadata": {},
   "outputs": [
    {
     "data": {
      "text/plain": [
       "((3733, 27), (1400, 27))"
      ]
     },
     "execution_count": 69,
     "metadata": {},
     "output_type": "execute_result"
    }
   ],
   "source": [
    "temp_No.shape , temp_Yes.shape"
   ]
  },
  {
   "cell_type": "code",
   "execution_count": 75,
   "metadata": {},
   "outputs": [],
   "source": [
    "temp1 = pd.concat([temp_No[:1400] , temp_Yes] , axis=0)\n",
    "temp2 = pd.concat([temp_No[1400:2800] , temp_Yes] , axis=0)\n",
    "temp3 = pd.concat([temp_No[2800:] , temp_Yes[:933]] , axis=0)"
   ]
  },
  {
   "cell_type": "code",
   "execution_count": 76,
   "metadata": {},
   "outputs": [
    {
     "data": {
      "text/plain": [
       "(0    1400\n",
       " 1    1400\n",
       " Name: Churn, dtype: int64,\n",
       " 0    1400\n",
       " 1    1400\n",
       " Name: Churn, dtype: int64,\n",
       " 0    933\n",
       " 1    933\n",
       " Name: Churn, dtype: int64)"
      ]
     },
     "execution_count": 76,
     "metadata": {},
     "output_type": "execute_result"
    }
   ],
   "source": [
    "temp1[\"Churn\"].value_counts() , temp2[\"Churn\"].value_counts() , temp3[\"Churn\"].value_counts() , "
   ]
  },
  {
   "cell_type": "code",
   "execution_count": 77,
   "metadata": {},
   "outputs": [],
   "source": [
    "x1 = temp1.drop(\"Churn\" , axis=1)\n",
    "x2 = temp2.drop(\"Churn\" , axis=1)\n",
    "x3 = temp3.drop(\"Churn\" , axis=1)"
   ]
  },
  {
   "cell_type": "code",
   "execution_count": 78,
   "metadata": {},
   "outputs": [],
   "source": [
    "y1 = temp1[\"Churn\"]\n",
    "y2 = temp2[\"Churn\"]\n",
    "y3 = temp3[\"Churn\"]"
   ]
  },
  {
   "cell_type": "code",
   "execution_count": 79,
   "metadata": {},
   "outputs": [
    {
     "name": "stdout",
     "output_type": "stream",
     "text": [
      "Epoch 1/50\n",
      "88/88 [==============================] - 1s 6ms/step - loss: 0.7221 - accuracy: 0.4911\n",
      "Epoch 2/50\n",
      "88/88 [==============================] - 0s 5ms/step - loss: 0.6453 - accuracy: 0.6464\n",
      "Epoch 3/50\n",
      "88/88 [==============================] - 0s 5ms/step - loss: 0.6022 - accuracy: 0.7107\n",
      "Epoch 4/50\n",
      "88/88 [==============================] - 1s 6ms/step - loss: 0.5722 - accuracy: 0.7318\n",
      "Epoch 5/50\n",
      "88/88 [==============================] - 0s 5ms/step - loss: 0.5516 - accuracy: 0.7350\n",
      "Epoch 6/50\n",
      "88/88 [==============================] - 1s 6ms/step - loss: 0.5368 - accuracy: 0.7389\n",
      "Epoch 7/50\n",
      "88/88 [==============================] - 0s 6ms/step - loss: 0.5265 - accuracy: 0.7407\n",
      "Epoch 8/50\n",
      "88/88 [==============================] - 1s 7ms/step - loss: 0.5182 - accuracy: 0.7436\n",
      "Epoch 9/50\n",
      "88/88 [==============================] - 0s 5ms/step - loss: 0.5131 - accuracy: 0.7464\n",
      "Epoch 10/50\n",
      "88/88 [==============================] - 1s 6ms/step - loss: 0.5085 - accuracy: 0.7464\n",
      "Epoch 11/50\n",
      "88/88 [==============================] - 0s 5ms/step - loss: 0.5049 - accuracy: 0.7493\n",
      "Epoch 12/50\n",
      "88/88 [==============================] - 1s 7ms/step - loss: 0.5020 - accuracy: 0.7500\n",
      "Epoch 13/50\n",
      "88/88 [==============================] - 0s 6ms/step - loss: 0.4996 - accuracy: 0.7529\n",
      "Epoch 14/50\n",
      "88/88 [==============================] - 0s 6ms/step - loss: 0.4973 - accuracy: 0.7521\n",
      "Epoch 15/50\n",
      "88/88 [==============================] - 1s 6ms/step - loss: 0.4955 - accuracy: 0.7536\n",
      "Epoch 16/50\n",
      "88/88 [==============================] - 1s 13ms/step - loss: 0.4938 - accuracy: 0.7546\n",
      "Epoch 17/50\n",
      "88/88 [==============================] - 1s 15ms/step - loss: 0.4924 - accuracy: 0.7575\n",
      "Epoch 18/50\n",
      "88/88 [==============================] - 1s 14ms/step - loss: 0.4910 - accuracy: 0.7564\n",
      "Epoch 19/50\n",
      "88/88 [==============================] - 1s 13ms/step - loss: 0.4898 - accuracy: 0.7568\n",
      "Epoch 20/50\n",
      "88/88 [==============================] - 1s 17ms/step - loss: 0.4885 - accuracy: 0.7557\n",
      "Epoch 21/50\n",
      "88/88 [==============================] - 2s 18ms/step - loss: 0.4873 - accuracy: 0.7579\n",
      "Epoch 22/50\n",
      "88/88 [==============================] - 2s 19ms/step - loss: 0.4865 - accuracy: 0.7589\n",
      "Epoch 23/50\n",
      "88/88 [==============================] - 2s 18ms/step - loss: 0.4856 - accuracy: 0.7568\n",
      "Epoch 24/50\n",
      "88/88 [==============================] - 2s 19ms/step - loss: 0.4846 - accuracy: 0.7579\n",
      "Epoch 25/50\n",
      "88/88 [==============================] - 1s 15ms/step - loss: 0.4839 - accuracy: 0.7575\n",
      "Epoch 26/50\n",
      "88/88 [==============================] - 1s 17ms/step - loss: 0.4830 - accuracy: 0.7593\n",
      "Epoch 27/50\n",
      "88/88 [==============================] - 1s 16ms/step - loss: 0.4822 - accuracy: 0.7596\n",
      "Epoch 28/50\n",
      "88/88 [==============================] - 2s 18ms/step - loss: 0.4817 - accuracy: 0.7596\n",
      "Epoch 29/50\n",
      "88/88 [==============================] - 2s 19ms/step - loss: 0.4808 - accuracy: 0.7621\n",
      "Epoch 30/50\n",
      "88/88 [==============================] - 2s 19ms/step - loss: 0.4805 - accuracy: 0.7593\n",
      "Epoch 31/50\n",
      "88/88 [==============================] - 2s 20ms/step - loss: 0.4801 - accuracy: 0.7596\n",
      "Epoch 32/50\n",
      "88/88 [==============================] - 2s 18ms/step - loss: 0.4795 - accuracy: 0.7579\n",
      "Epoch 33/50\n",
      "88/88 [==============================] - 1s 15ms/step - loss: 0.4791 - accuracy: 0.7579\n",
      "Epoch 34/50\n",
      "88/88 [==============================] - 2s 18ms/step - loss: 0.4785 - accuracy: 0.7586\n",
      "Epoch 35/50\n",
      "88/88 [==============================] - 1s 15ms/step - loss: 0.4782 - accuracy: 0.7589\n",
      "Epoch 36/50\n",
      "88/88 [==============================] - 1s 16ms/step - loss: 0.4775 - accuracy: 0.7607\n",
      "Epoch 37/50\n",
      "88/88 [==============================] - 1s 15ms/step - loss: 0.4775 - accuracy: 0.7604\n",
      "Epoch 38/50\n",
      "88/88 [==============================] - 2s 20ms/step - loss: 0.4769 - accuracy: 0.7586\n",
      "Epoch 39/50\n",
      "88/88 [==============================] - 2s 20ms/step - loss: 0.4766 - accuracy: 0.7589\n",
      "Epoch 40/50\n",
      "88/88 [==============================] - 2s 18ms/step - loss: 0.4762 - accuracy: 0.7611\n",
      "Epoch 41/50\n",
      "88/88 [==============================] - 2s 20ms/step - loss: 0.4758 - accuracy: 0.7611\n",
      "Epoch 42/50\n",
      "88/88 [==============================] - 2s 19ms/step - loss: 0.4752 - accuracy: 0.7636\n",
      "Epoch 43/50\n",
      "88/88 [==============================] - 2s 19ms/step - loss: 0.4749 - accuracy: 0.7629\n",
      "Epoch 44/50\n",
      "88/88 [==============================] - 1s 15ms/step - loss: 0.4747 - accuracy: 0.7625\n",
      "Epoch 45/50\n",
      "88/88 [==============================] - 1s 16ms/step - loss: 0.4742 - accuracy: 0.7639\n",
      "Epoch 46/50\n",
      "88/88 [==============================] - 1s 16ms/step - loss: 0.4740 - accuracy: 0.7625\n",
      "Epoch 47/50\n",
      "88/88 [==============================] - 2s 20ms/step - loss: 0.4738 - accuracy: 0.7636\n",
      "Epoch 48/50\n",
      "88/88 [==============================] - 2s 18ms/step - loss: 0.4734 - accuracy: 0.7654\n",
      "Epoch 49/50\n",
      "88/88 [==============================] - 2s 17ms/step - loss: 0.4730 - accuracy: 0.7643\n",
      "Epoch 50/50\n",
      "88/88 [==============================] - 1s 17ms/step - loss: 0.4731 - accuracy: 0.7664\n",
      "60/60 [==============================] - 1s 7ms/step\n",
      "Epoch 1/50\n",
      "88/88 [==============================] - 3s 20ms/step - loss: 0.6384 - accuracy: 0.6286\n",
      "Epoch 2/50\n",
      "88/88 [==============================] - 2s 18ms/step - loss: 0.5962 - accuracy: 0.6993\n",
      "Epoch 3/50\n",
      "88/88 [==============================] - 2s 18ms/step - loss: 0.5720 - accuracy: 0.7104\n",
      "Epoch 4/50\n",
      "88/88 [==============================] - 2s 18ms/step - loss: 0.5554 - accuracy: 0.7182\n",
      "Epoch 5/50\n",
      "88/88 [==============================] - 2s 19ms/step - loss: 0.5443 - accuracy: 0.7246\n",
      "Epoch 6/50\n",
      "88/88 [==============================] - 2s 20ms/step - loss: 0.5363 - accuracy: 0.7321\n",
      "Epoch 7/50\n",
      "88/88 [==============================] - 2s 19ms/step - loss: 0.5309 - accuracy: 0.7343\n",
      "Epoch 8/50\n",
      "88/88 [==============================] - 2s 17ms/step - loss: 0.5265 - accuracy: 0.7332\n",
      "Epoch 9/50\n",
      "88/88 [==============================] - 1s 17ms/step - loss: 0.5231 - accuracy: 0.7379\n",
      "Epoch 10/50\n",
      "88/88 [==============================] - 1s 12ms/step - loss: 0.5207 - accuracy: 0.7404\n",
      "Epoch 11/50\n",
      "88/88 [==============================] - 0s 5ms/step - loss: 0.5188 - accuracy: 0.7418\n",
      "Epoch 12/50\n",
      "88/88 [==============================] - 1s 7ms/step - loss: 0.5169 - accuracy: 0.7436\n",
      "Epoch 13/50\n",
      "88/88 [==============================] - 0s 5ms/step - loss: 0.5155 - accuracy: 0.7446\n",
      "Epoch 14/50\n",
      "88/88 [==============================] - 0s 5ms/step - loss: 0.5142 - accuracy: 0.7446\n",
      "Epoch 15/50\n",
      "88/88 [==============================] - 1s 6ms/step - loss: 0.5128 - accuracy: 0.7439\n",
      "Epoch 16/50\n",
      "88/88 [==============================] - 1s 7ms/step - loss: 0.5117 - accuracy: 0.7446\n",
      "Epoch 17/50\n",
      "88/88 [==============================] - 0s 5ms/step - loss: 0.5106 - accuracy: 0.7432\n",
      "Epoch 18/50\n",
      "88/88 [==============================] - 0s 5ms/step - loss: 0.5096 - accuracy: 0.7450\n",
      "Epoch 19/50\n",
      "88/88 [==============================] - 0s 5ms/step - loss: 0.5089 - accuracy: 0.7446\n",
      "Epoch 20/50\n",
      "88/88 [==============================] - 0s 6ms/step - loss: 0.5078 - accuracy: 0.7450\n",
      "Epoch 21/50\n",
      "88/88 [==============================] - 1s 7ms/step - loss: 0.5071 - accuracy: 0.7439\n",
      "Epoch 22/50\n",
      "88/88 [==============================] - 0s 5ms/step - loss: 0.5065 - accuracy: 0.7457\n",
      "Epoch 23/50\n",
      "88/88 [==============================] - 0s 5ms/step - loss: 0.5057 - accuracy: 0.7443\n",
      "Epoch 24/50\n",
      "88/88 [==============================] - 0s 5ms/step - loss: 0.5052 - accuracy: 0.7464\n",
      "Epoch 25/50\n",
      "88/88 [==============================] - 1s 8ms/step - loss: 0.5048 - accuracy: 0.7454\n",
      "Epoch 26/50\n",
      "88/88 [==============================] - 0s 5ms/step - loss: 0.5041 - accuracy: 0.7450\n",
      "Epoch 27/50\n",
      "88/88 [==============================] - 0s 5ms/step - loss: 0.5036 - accuracy: 0.7489\n",
      "Epoch 28/50\n",
      "88/88 [==============================] - 0s 5ms/step - loss: 0.5034 - accuracy: 0.7443\n",
      "Epoch 29/50\n",
      "88/88 [==============================] - 0s 5ms/step - loss: 0.5029 - accuracy: 0.7471\n",
      "Epoch 30/50\n",
      "88/88 [==============================] - 1s 8ms/step - loss: 0.5027 - accuracy: 0.7454\n",
      "Epoch 31/50\n",
      "88/88 [==============================] - 0s 5ms/step - loss: 0.5022 - accuracy: 0.7443\n",
      "Epoch 32/50\n",
      "88/88 [==============================] - 0s 5ms/step - loss: 0.5020 - accuracy: 0.7471\n",
      "Epoch 33/50\n",
      "88/88 [==============================] - 0s 6ms/step - loss: 0.5014 - accuracy: 0.7457\n",
      "Epoch 34/50\n",
      "88/88 [==============================] - 1s 8ms/step - loss: 0.5015 - accuracy: 0.7464\n",
      "Epoch 35/50\n",
      "88/88 [==============================] - 0s 5ms/step - loss: 0.5010 - accuracy: 0.7479\n",
      "Epoch 36/50\n",
      "88/88 [==============================] - 0s 5ms/step - loss: 0.5008 - accuracy: 0.7464\n",
      "Epoch 37/50\n",
      "88/88 [==============================] - 1s 6ms/step - loss: 0.5006 - accuracy: 0.7454\n",
      "Epoch 38/50\n",
      "88/88 [==============================] - 0s 5ms/step - loss: 0.5001 - accuracy: 0.7482\n",
      "Epoch 39/50\n",
      "88/88 [==============================] - 1s 7ms/step - loss: 0.5001 - accuracy: 0.7464\n",
      "Epoch 40/50\n",
      "88/88 [==============================] - 1s 6ms/step - loss: 0.4999 - accuracy: 0.7482\n",
      "Epoch 41/50\n",
      "88/88 [==============================] - 0s 5ms/step - loss: 0.4997 - accuracy: 0.7471\n",
      "Epoch 42/50\n",
      "88/88 [==============================] - 0s 6ms/step - loss: 0.4996 - accuracy: 0.7489\n",
      "Epoch 43/50\n",
      "88/88 [==============================] - 1s 8ms/step - loss: 0.4994 - accuracy: 0.7461\n",
      "Epoch 44/50\n",
      "88/88 [==============================] - 1s 6ms/step - loss: 0.4993 - accuracy: 0.7489\n",
      "Epoch 45/50\n",
      "88/88 [==============================] - 0s 5ms/step - loss: 0.4990 - accuracy: 0.7471\n",
      "Epoch 46/50\n",
      "88/88 [==============================] - 0s 5ms/step - loss: 0.4987 - accuracy: 0.7514\n",
      "Epoch 47/50\n",
      "88/88 [==============================] - 1s 6ms/step - loss: 0.4987 - accuracy: 0.7482\n",
      "Epoch 48/50\n",
      "88/88 [==============================] - 1s 9ms/step - loss: 0.4981 - accuracy: 0.7500\n",
      "Epoch 49/50\n",
      "88/88 [==============================] - 1s 6ms/step - loss: 0.4984 - accuracy: 0.7500\n",
      "Epoch 50/50\n",
      "88/88 [==============================] - 0s 5ms/step - loss: 0.4982 - accuracy: 0.7504\n",
      "60/60 [==============================] - 0s 5ms/step\n",
      "Epoch 1/50\n",
      "59/59 [==============================] - 1s 11ms/step - loss: 0.7177 - accuracy: 0.5054\n",
      "Epoch 2/50\n",
      "59/59 [==============================] - 1s 9ms/step - loss: 0.6752 - accuracy: 0.5841\n",
      "Epoch 3/50\n",
      "59/59 [==============================] - 0s 5ms/step - loss: 0.6566 - accuracy: 0.6543\n",
      "Epoch 4/50\n",
      "59/59 [==============================] - 0s 5ms/step - loss: 0.6421 - accuracy: 0.6758\n",
      "Epoch 5/50\n",
      "59/59 [==============================] - 0s 5ms/step - loss: 0.6284 - accuracy: 0.6935\n",
      "Epoch 6/50\n",
      "59/59 [==============================] - 0s 5ms/step - loss: 0.6153 - accuracy: 0.7053\n",
      "Epoch 7/50\n",
      "59/59 [==============================] - 0s 5ms/step - loss: 0.6021 - accuracy: 0.7133\n",
      "Epoch 8/50\n",
      "59/59 [==============================] - 0s 8ms/step - loss: 0.5894 - accuracy: 0.7224\n",
      "Epoch 9/50\n",
      "59/59 [==============================] - 0s 5ms/step - loss: 0.5775 - accuracy: 0.7262\n",
      "Epoch 10/50\n",
      "59/59 [==============================] - 0s 5ms/step - loss: 0.5663 - accuracy: 0.7363\n",
      "Epoch 11/50\n",
      "59/59 [==============================] - 0s 5ms/step - loss: 0.5563 - accuracy: 0.7395\n",
      "Epoch 12/50\n",
      "59/59 [==============================] - 0s 5ms/step - loss: 0.5476 - accuracy: 0.7385\n",
      "Epoch 13/50\n",
      "59/59 [==============================] - 0s 5ms/step - loss: 0.5398 - accuracy: 0.7428\n",
      "Epoch 14/50\n",
      "59/59 [==============================] - 0s 5ms/step - loss: 0.5333 - accuracy: 0.7401\n",
      "Epoch 15/50\n",
      "59/59 [==============================] - 0s 7ms/step - loss: 0.5277 - accuracy: 0.7471\n",
      "Epoch 16/50\n",
      "59/59 [==============================] - 0s 8ms/step - loss: 0.5229 - accuracy: 0.7492\n",
      "Epoch 17/50\n",
      "59/59 [==============================] - 0s 5ms/step - loss: 0.5189 - accuracy: 0.7529\n",
      "Epoch 18/50\n",
      "59/59 [==============================] - 0s 6ms/step - loss: 0.5155 - accuracy: 0.7519\n",
      "Epoch 19/50\n",
      "59/59 [==============================] - 0s 5ms/step - loss: 0.5124 - accuracy: 0.7529\n",
      "Epoch 20/50\n",
      "59/59 [==============================] - 0s 5ms/step - loss: 0.5097 - accuracy: 0.7535\n",
      "Epoch 21/50\n",
      "59/59 [==============================] - 0s 6ms/step - loss: 0.5074 - accuracy: 0.7513\n",
      "Epoch 22/50\n",
      "59/59 [==============================] - 0s 8ms/step - loss: 0.5054 - accuracy: 0.7551\n",
      "Epoch 23/50\n",
      "59/59 [==============================] - 0s 5ms/step - loss: 0.5036 - accuracy: 0.7529\n",
      "Epoch 24/50\n",
      "59/59 [==============================] - 0s 5ms/step - loss: 0.5021 - accuracy: 0.7540\n",
      "Epoch 25/50\n",
      "59/59 [==============================] - 0s 6ms/step - loss: 0.5005 - accuracy: 0.7567\n",
      "Epoch 26/50\n",
      "59/59 [==============================] - 0s 5ms/step - loss: 0.4992 - accuracy: 0.7556\n",
      "Epoch 27/50\n",
      "59/59 [==============================] - 0s 5ms/step - loss: 0.4979 - accuracy: 0.7567\n",
      "Epoch 28/50\n",
      "59/59 [==============================] - 0s 5ms/step - loss: 0.4969 - accuracy: 0.7572\n",
      "Epoch 29/50\n",
      "59/59 [==============================] - 0s 7ms/step - loss: 0.4958 - accuracy: 0.7567\n",
      "Epoch 30/50\n",
      "59/59 [==============================] - 0s 6ms/step - loss: 0.4949 - accuracy: 0.7567\n",
      "Epoch 31/50\n",
      "59/59 [==============================] - 0s 7ms/step - loss: 0.4939 - accuracy: 0.7562\n",
      "Epoch 32/50\n",
      "59/59 [==============================] - 0s 7ms/step - loss: 0.4931 - accuracy: 0.7572\n",
      "Epoch 33/50\n",
      "59/59 [==============================] - 0s 6ms/step - loss: 0.4923 - accuracy: 0.7556\n",
      "Epoch 34/50\n",
      "59/59 [==============================] - 1s 9ms/step - loss: 0.4915 - accuracy: 0.7562\n",
      "Epoch 35/50\n",
      "59/59 [==============================] - 0s 6ms/step - loss: 0.4908 - accuracy: 0.7578\n",
      "Epoch 36/50\n",
      "59/59 [==============================] - 0s 5ms/step - loss: 0.4901 - accuracy: 0.7583\n",
      "Epoch 37/50\n",
      "59/59 [==============================] - 0s 6ms/step - loss: 0.4895 - accuracy: 0.7588\n",
      "Epoch 38/50\n",
      "59/59 [==============================] - 0s 5ms/step - loss: 0.4888 - accuracy: 0.7546\n",
      "Epoch 39/50\n",
      "59/59 [==============================] - 0s 5ms/step - loss: 0.4883 - accuracy: 0.7562\n",
      "Epoch 40/50\n",
      "59/59 [==============================] - 0s 6ms/step - loss: 0.4874 - accuracy: 0.7588\n",
      "Epoch 41/50\n",
      "59/59 [==============================] - 0s 6ms/step - loss: 0.4871 - accuracy: 0.7562\n",
      "Epoch 42/50\n",
      "59/59 [==============================] - 0s 5ms/step - loss: 0.4866 - accuracy: 0.7605\n",
      "Epoch 43/50\n",
      "59/59 [==============================] - 0s 6ms/step - loss: 0.4858 - accuracy: 0.7588\n",
      "Epoch 44/50\n",
      "59/59 [==============================] - 0s 5ms/step - loss: 0.4854 - accuracy: 0.7594\n",
      "Epoch 45/50\n",
      "59/59 [==============================] - 0s 5ms/step - loss: 0.4849 - accuracy: 0.7610\n",
      "Epoch 46/50\n",
      "59/59 [==============================] - 1s 9ms/step - loss: 0.4844 - accuracy: 0.7588\n",
      "Epoch 47/50\n",
      "59/59 [==============================] - 0s 5ms/step - loss: 0.4839 - accuracy: 0.7605\n",
      "Epoch 48/50\n",
      "59/59 [==============================] - 0s 6ms/step - loss: 0.4835 - accuracy: 0.7615\n",
      "Epoch 49/50\n",
      "59/59 [==============================] - 0s 5ms/step - loss: 0.4831 - accuracy: 0.7583\n",
      "Epoch 50/50\n",
      "59/59 [==============================] - 0s 5ms/step - loss: 0.4826 - accuracy: 0.7594\n",
      "60/60 [==============================] - 0s 6ms/step\n"
     ]
    }
   ],
   "source": [
    "yp1 = return_y_predicted(x1 , y1)\n",
    "yp2 = return_y_predicted(x2 , y2)\n",
    "yp3 = return_y_predicted(x3 , y3)"
   ]
  },
  {
   "cell_type": "code",
   "execution_count": 81,
   "metadata": {},
   "outputs": [
    {
     "data": {
      "text/plain": [
       "1899"
      ]
     },
     "execution_count": 81,
     "metadata": {},
     "output_type": "execute_result"
    }
   ],
   "source": [
    "len(yp3)"
   ]
  },
  {
   "cell_type": "code",
   "execution_count": 82,
   "metadata": {},
   "outputs": [],
   "source": [
    "final_y_pre = np.arange(len(yp3))"
   ]
  },
  {
   "cell_type": "code",
   "execution_count": 91,
   "metadata": {},
   "outputs": [
    {
     "data": {
      "text/plain": [
       "array([0., 1.], dtype=float32)"
      ]
     },
     "execution_count": 91,
     "metadata": {},
     "output_type": "execute_result"
    }
   ],
   "source": [
    "np.unique(yp1)"
   ]
  },
  {
   "cell_type": "code",
   "execution_count": 88,
   "metadata": {},
   "outputs": [
    {
     "data": {
      "text/plain": [
       "(array([1.], dtype=float32),\n",
       " array([1.], dtype=float32),\n",
       " array([1.], dtype=float32),\n",
       " 1)"
      ]
     },
     "execution_count": 88,
     "metadata": {},
     "output_type": "execute_result"
    }
   ],
   "source": [
    "yp1[65] , yp2[65] , yp3[65] , final_y_pre[65]"
   ]
  },
  {
   "cell_type": "code",
   "execution_count": 84,
   "metadata": {},
   "outputs": [],
   "source": [
    "for i in range(len(yp3)):\n",
    "    if ((yp1[i] + yp2[i] + yp3[i]) < 2):\n",
    "        final_y_pre[i] = 0\n",
    "    else:\n",
    "        final_y_pre[i] = 1     "
   ]
  },
  {
   "cell_type": "code",
   "execution_count": 85,
   "metadata": {},
   "outputs": [
    {
     "name": "stdout",
     "output_type": "stream",
     "text": [
      "              precision    recall  f1-score   support\n",
      "\n",
      "           0       0.93      0.73      0.82      1430\n",
      "           1       0.50      0.82      0.62       469\n",
      "\n",
      "    accuracy                           0.76      1899\n",
      "   macro avg       0.71      0.78      0.72      1899\n",
      "weighted avg       0.82      0.76      0.77      1899\n",
      "\n"
     ]
    }
   ],
   "source": [
    "print(classification_report(y_test , final_y_pre))"
   ]
  },
  {
   "cell_type": "code",
   "execution_count": null,
   "metadata": {},
   "outputs": [],
   "source": []
  }
 ],
 "metadata": {
  "kernelspec": {
   "display_name": "Python 3",
   "language": "python",
   "name": "python3"
  },
  "language_info": {
   "codemirror_mode": {
    "name": "ipython",
    "version": 3
   },
   "file_extension": ".py",
   "mimetype": "text/x-python",
   "name": "python",
   "nbconvert_exporter": "python",
   "pygments_lexer": "ipython3",
   "version": "3.10.5"
  },
  "orig_nbformat": 4
 },
 "nbformat": 4,
 "nbformat_minor": 2
}
