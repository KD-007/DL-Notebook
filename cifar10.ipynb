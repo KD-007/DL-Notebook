{
 "cells": [
  {
   "cell_type": "code",
   "execution_count": 1,
   "metadata": {},
   "outputs": [],
   "source": [
    "import numpy as np\n",
    "import matplotlib.pyplot as plt\n",
    "import tensorflow as tf\n",
    "from tensorflow import keras"
   ]
  },
  {
   "cell_type": "code",
   "execution_count": 2,
   "metadata": {},
   "outputs": [],
   "source": [
    "(x_train, y_train), (x_test, y_test) = keras.datasets.cifar10.load_data()"
   ]
  },
  {
   "cell_type": "code",
   "execution_count": 3,
   "metadata": {},
   "outputs": [
    {
     "data": {
      "text/plain": [
       "(50000, 32, 32, 3)"
      ]
     },
     "execution_count": 3,
     "metadata": {},
     "output_type": "execute_result"
    }
   ],
   "source": [
    "x_train.shape"
   ]
  },
  {
   "cell_type": "code",
   "execution_count": 4,
   "metadata": {},
   "outputs": [
    {
     "data": {
      "text/plain": [
       "array([[6],\n",
       "       [9],\n",
       "       [9]], dtype=uint8)"
      ]
     },
     "execution_count": 4,
     "metadata": {},
     "output_type": "execute_result"
    }
   ],
   "source": [
    "y_train[:3]"
   ]
  },
  {
   "cell_type": "code",
   "execution_count": 5,
   "metadata": {},
   "outputs": [],
   "source": [
    "y_train = y_train.reshape(-1 , )\n",
    "y_test = y_test.reshape(-1 , )"
   ]
  },
  {
   "cell_type": "code",
   "execution_count": 6,
   "metadata": {},
   "outputs": [
    {
     "data": {
      "text/plain": [
       "array([6, 9, 9], dtype=uint8)"
      ]
     },
     "execution_count": 6,
     "metadata": {},
     "output_type": "execute_result"
    }
   ],
   "source": [
    "y_train[:3]"
   ]
  },
  {
   "cell_type": "code",
   "execution_count": 7,
   "metadata": {},
   "outputs": [],
   "source": [
    "x_train = x_train/255\n",
    "x_test = x_test/255"
   ]
  },
  {
   "cell_type": "code",
   "execution_count": 8,
   "metadata": {},
   "outputs": [],
   "source": [
    "y_train_one_hot_encoded = keras.utils.to_categorical(y_train , num_classes=10 , dtype=\"float32\")"
   ]
  },
  {
   "cell_type": "code",
   "execution_count": 9,
   "metadata": {},
   "outputs": [],
   "source": [
    "y_test_one_hot_encoded = keras.utils.to_categorical(y_test , num_classes=10 , dtype=\"float32\")"
   ]
  },
  {
   "cell_type": "code",
   "execution_count": 10,
   "metadata": {},
   "outputs": [
    {
     "data": {
      "text/plain": [
       "array([[0., 0., 0., 0., 0., 0., 1., 0., 0., 0.],\n",
       "       [0., 0., 0., 0., 0., 0., 0., 0., 0., 1.],\n",
       "       [0., 0., 0., 0., 0., 0., 0., 0., 0., 1.]], dtype=float32)"
      ]
     },
     "execution_count": 10,
     "metadata": {},
     "output_type": "execute_result"
    }
   ],
   "source": [
    "y_train_one_hot_encoded[:3]"
   ]
  },
  {
   "cell_type": "code",
   "execution_count": 9,
   "metadata": {},
   "outputs": [
    {
     "name": "stdout",
     "output_type": "stream",
     "text": [
      "Epoch 1/50\n",
      "1563/1563 [==============================] - 17s 9ms/step - loss: 1.8091 - accuracy: 0.3561\n",
      "Epoch 2/50\n",
      "1563/1563 [==============================] - 14s 9ms/step - loss: 1.6248 - accuracy: 0.4280\n",
      "Epoch 3/50\n",
      "1563/1563 [==============================] - 14s 9ms/step - loss: 1.5422 - accuracy: 0.4554\n",
      "Epoch 4/50\n",
      "1563/1563 [==============================] - 14s 9ms/step - loss: 1.4810 - accuracy: 0.4796\n",
      "Epoch 5/50\n",
      "1563/1563 [==============================] - 19s 12ms/step - loss: 1.4337 - accuracy: 0.4947\n",
      "Epoch 6/50\n",
      "1563/1563 [==============================] - 14s 9ms/step - loss: 1.3895 - accuracy: 0.5094\n",
      "Epoch 7/50\n",
      "1563/1563 [==============================] - 15s 10ms/step - loss: 1.3517 - accuracy: 0.5243\n",
      "Epoch 8/50\n",
      "1563/1563 [==============================] - 16s 10ms/step - loss: 1.3151 - accuracy: 0.5390\n",
      "Epoch 9/50\n",
      "1563/1563 [==============================] - 15s 10ms/step - loss: 1.2841 - accuracy: 0.5491\n",
      "Epoch 10/50\n",
      "1563/1563 [==============================] - 16s 10ms/step - loss: 1.2526 - accuracy: 0.5610\n",
      "Epoch 11/50\n",
      "1563/1563 [==============================] - 15s 10ms/step - loss: 1.2237 - accuracy: 0.5708\n",
      "Epoch 12/50\n",
      "1563/1563 [==============================] - 16s 10ms/step - loss: 1.1972 - accuracy: 0.5816\n",
      "Epoch 13/50\n",
      "1563/1563 [==============================] - 17s 11ms/step - loss: 1.1697 - accuracy: 0.5893\n",
      "Epoch 14/50\n",
      "1563/1563 [==============================] - 15s 10ms/step - loss: 1.1420 - accuracy: 0.6000\n",
      "Epoch 15/50\n",
      "1563/1563 [==============================] - 16s 10ms/step - loss: 1.1158 - accuracy: 0.6106\n",
      "Epoch 16/50\n",
      "1563/1563 [==============================] - 16s 10ms/step - loss: 1.0864 - accuracy: 0.6227\n",
      "Epoch 17/50\n",
      "1563/1563 [==============================] - 17s 11ms/step - loss: 1.0611 - accuracy: 0.6317\n",
      "Epoch 18/50\n",
      "1563/1563 [==============================] - 16s 10ms/step - loss: 1.0345 - accuracy: 0.6416\n",
      "Epoch 19/50\n",
      "1563/1563 [==============================] - 17s 11ms/step - loss: 1.0082 - accuracy: 0.6499\n",
      "Epoch 20/50\n",
      "1563/1563 [==============================] - 16s 10ms/step - loss: 0.9823 - accuracy: 0.6604\n",
      "Epoch 21/50\n",
      "1563/1563 [==============================] - 15s 10ms/step - loss: 0.9587 - accuracy: 0.6668\n",
      "Epoch 22/50\n",
      "1563/1563 [==============================] - 16s 10ms/step - loss: 0.9333 - accuracy: 0.6767\n",
      "Epoch 23/50\n",
      "1563/1563 [==============================] - 16s 10ms/step - loss: 0.9058 - accuracy: 0.6874\n",
      "Epoch 24/50\n",
      "1563/1563 [==============================] - 15s 10ms/step - loss: 0.8822 - accuracy: 0.6966\n",
      "Epoch 25/50\n",
      "1563/1563 [==============================] - 16s 10ms/step - loss: 0.8572 - accuracy: 0.7054\n",
      "Epoch 26/50\n",
      "1563/1563 [==============================] - 17s 11ms/step - loss: 0.8302 - accuracy: 0.7142\n",
      "Epoch 27/50\n",
      "1563/1563 [==============================] - 16s 10ms/step - loss: 0.8040 - accuracy: 0.7235\n",
      "Epoch 28/50\n",
      "1563/1563 [==============================] - 17s 11ms/step - loss: 0.7806 - accuracy: 0.7322\n",
      "Epoch 29/50\n",
      "1563/1563 [==============================] - 16s 11ms/step - loss: 0.7544 - accuracy: 0.7407\n",
      "Epoch 30/50\n",
      "1563/1563 [==============================] - 16s 10ms/step - loss: 0.7315 - accuracy: 0.7490\n",
      "Epoch 31/50\n",
      "1563/1563 [==============================] - 13s 9ms/step - loss: 0.7070 - accuracy: 0.7596\n",
      "Epoch 32/50\n",
      "1563/1563 [==============================] - 13s 8ms/step - loss: 0.6810 - accuracy: 0.7674\n",
      "Epoch 33/50\n",
      "1563/1563 [==============================] - 13s 8ms/step - loss: 0.6553 - accuracy: 0.7787\n",
      "Epoch 34/50\n",
      "1563/1563 [==============================] - 13s 8ms/step - loss: 0.6288 - accuracy: 0.7886\n",
      "Epoch 35/50\n",
      "1563/1563 [==============================] - 14s 9ms/step - loss: 0.6048 - accuracy: 0.7977\n",
      "Epoch 36/50\n",
      "1563/1563 [==============================] - 14s 9ms/step - loss: 0.5820 - accuracy: 0.8036\n",
      "Epoch 37/50\n",
      "1563/1563 [==============================] - 14s 9ms/step - loss: 0.5591 - accuracy: 0.8130\n",
      "Epoch 38/50\n",
      "1563/1563 [==============================] - 15s 9ms/step - loss: 0.5342 - accuracy: 0.8217\n",
      "Epoch 39/50\n",
      "1563/1563 [==============================] - 14s 9ms/step - loss: 0.5139 - accuracy: 0.8315\n",
      "Epoch 40/50\n",
      "1563/1563 [==============================] - 15s 9ms/step - loss: 0.4918 - accuracy: 0.8377\n",
      "Epoch 41/50\n",
      "1563/1563 [==============================] - 15s 9ms/step - loss: 0.4686 - accuracy: 0.8475\n",
      "Epoch 42/50\n",
      "1563/1563 [==============================] - 15s 10ms/step - loss: 0.4448 - accuracy: 0.8553\n",
      "Epoch 43/50\n",
      "1563/1563 [==============================] - 14s 9ms/step - loss: 0.4258 - accuracy: 0.8636\n",
      "Epoch 44/50\n",
      "1563/1563 [==============================] - 14s 9ms/step - loss: 0.4054 - accuracy: 0.8697\n",
      "Epoch 45/50\n",
      "1563/1563 [==============================] - 28s 18ms/step - loss: 0.3859 - accuracy: 0.8783\n",
      "Epoch 46/50\n",
      "1563/1563 [==============================] - 19s 12ms/step - loss: 0.3665 - accuracy: 0.8848\n",
      "Epoch 47/50\n",
      "1563/1563 [==============================] - 17s 11ms/step - loss: 0.3459 - accuracy: 0.8929\n",
      "Epoch 48/50\n",
      "1563/1563 [==============================] - 16s 10ms/step - loss: 0.3277 - accuracy: 0.8995\n",
      "Epoch 49/50\n",
      "1563/1563 [==============================] - 16s 10ms/step - loss: 0.3097 - accuracy: 0.9063\n",
      "Epoch 50/50\n",
      "1563/1563 [==============================] - 68s 43ms/step - loss: 0.2947 - accuracy: 0.9111\n"
     ]
    },
    {
     "data": {
      "text/plain": [
       "<keras.callbacks.History at 0x25cc19890f0>"
      ]
     },
     "execution_count": 9,
     "metadata": {},
     "output_type": "execute_result"
    }
   ],
   "source": [
    "model = keras.Sequential([\n",
    "    keras.layers.Flatten(input_shape = (32,32,3)),\n",
    "    keras.layers.Dense(3000 , activation = \"relu\"),\n",
    "    keras.layers.Dense(1000 , activation = \"relu\"),\n",
    "    keras.layers.Dense(10 , activation=\"sigmoid\")\n",
    "])\n",
    "\n",
    "model.compile(optimizer=\"SGD\" , loss=\"categorical_crossentropy\", metrics=[\"accuracy\"])\n",
    "model.fit(x_train , y_train_one_hot_encoded , epochs=50)"
   ]
  },
  {
   "cell_type": "code",
   "execution_count": 10,
   "metadata": {},
   "outputs": [
    {
     "data": {
      "text/plain": [
       "[PhysicalDevice(name='/physical_device:CPU:0', device_type='CPU'),\n",
       " PhysicalDevice(name='/physical_device:GPU:0', device_type='GPU')]"
      ]
     },
     "execution_count": 10,
     "metadata": {},
     "output_type": "execute_result"
    }
   ],
   "source": [
    "tf.config.experimental.list_physical_devices()"
   ]
  },
  {
   "cell_type": "code",
   "execution_count": 11,
   "metadata": {},
   "outputs": [],
   "source": [
    "def get_model():\n",
    "    model = keras.Sequential([\n",
    "    keras.layers.Flatten(input_shape = (32,32,3)),\n",
    "    keras.layers.Dense(3000 , activation = \"relu\"),\n",
    "    keras.layers.Dense(1000 , activation = \"relu\"),\n",
    "    keras.layers.Dense(10 , activation=\"sigmoid\")\n",
    "    ])\n",
    "\n",
    "    model.compile(optimizer=\"SGD\" , loss=\"categorical_crossentropy\", metrics=[\"accuracy\"])\n",
    "    return model"
   ]
  },
  {
   "cell_type": "code",
   "execution_count": 18,
   "metadata": {},
   "outputs": [
    {
     "name": "stdout",
     "output_type": "stream",
     "text": [
      "313/313 [==============================] - 3s 5ms/step - loss: 1.8381 - accuracy: 0.5231\n"
     ]
    },
    {
     "data": {
      "text/plain": [
       "[1.838140845298767, 0.5231000185012817]"
      ]
     },
     "execution_count": 18,
     "metadata": {},
     "output_type": "execute_result"
    }
   ],
   "source": [
    "model.evaluate(x_test ,y_test_one_hot_encoded )"
   ]
  },
  {
   "cell_type": "code",
   "execution_count": 20,
   "metadata": {},
   "outputs": [
    {
     "name": "stdout",
     "output_type": "stream",
     "text": [
      "313/313 [==============================] - 1s 3ms/step\n"
     ]
    },
    {
     "data": {
      "text/plain": [
       "3"
      ]
     },
     "execution_count": 20,
     "metadata": {},
     "output_type": "execute_result"
    }
   ],
   "source": [
    "np.argmax(model.predict(x_test)[0])"
   ]
  },
  {
   "cell_type": "code",
   "execution_count": 22,
   "metadata": {},
   "outputs": [
    {
     "data": {
      "text/plain": [
       "array([3], dtype=uint8)"
      ]
     },
     "execution_count": 22,
     "metadata": {},
     "output_type": "execute_result"
    }
   ],
   "source": [
    "y_test[0]"
   ]
  },
  {
   "cell_type": "code",
   "execution_count": 12,
   "metadata": {},
   "outputs": [],
   "source": [
    "import time"
   ]
  },
  {
   "cell_type": "code",
   "execution_count": 14,
   "metadata": {},
   "outputs": [
    {
     "name": "stdout",
     "output_type": "stream",
     "text": [
      "Epoch 1/5\n",
      "1563/1563 [==============================] - 15s 9ms/step - loss: 1.8101 - accuracy: 0.3544\n",
      "Epoch 2/5\n",
      "1563/1563 [==============================] - 14s 9ms/step - loss: 1.6245 - accuracy: 0.4255\n",
      "Epoch 3/5\n",
      "1563/1563 [==============================] - 14s 9ms/step - loss: 1.5425 - accuracy: 0.4576\n",
      "Epoch 4/5\n",
      "1563/1563 [==============================] - 14s 9ms/step - loss: 1.4826 - accuracy: 0.4771\n",
      "Epoch 5/5\n",
      "1563/1563 [==============================] - 14s 9ms/step - loss: 1.4325 - accuracy: 0.4946\n",
      "72.96538925170898\n"
     ]
    }
   ],
   "source": [
    "t1 = time.time()\n",
    "with tf.device(\"GPU:0\"):\n",
    "    model1 = get_model()\n",
    "    model1.fit(x_train , y_train_one_hot_encoded , epochs=5)\n",
    "t2 = time.time()\n",
    "print((t2-t1))"
   ]
  },
  {
   "cell_type": "code",
   "execution_count": 16,
   "metadata": {},
   "outputs": [
    {
     "name": "stdout",
     "output_type": "stream",
     "text": [
      "1563/1563 [==============================] - 67s 42ms/step - loss: 1.8082 - accuracy: 0.3554\n",
      "67.98110342025757\n"
     ]
    }
   ],
   "source": [
    "t1 = time.time()\n",
    "with tf.device(\"CPU:0\"):\n",
    "    model1 = get_model()\n",
    "    model1.fit(x_train , y_train_one_hot_encoded , epochs=1)\n",
    "t2 = time.time()\n",
    "print((t2-t1))"
   ]
  },
  {
   "cell_type": "code",
   "execution_count": null,
   "metadata": {},
   "outputs": [],
   "source": []
  },
  {
   "cell_type": "code",
   "execution_count": 28,
   "metadata": {},
   "outputs": [
    {
     "data": {
      "text/plain": [
       "[PhysicalDevice(name='/physical_device:CPU:0', device_type='CPU'),\n",
       " PhysicalDevice(name='/physical_device:GPU:0', device_type='GPU')]"
      ]
     },
     "execution_count": 28,
     "metadata": {},
     "output_type": "execute_result"
    }
   ],
   "source": [
    "tf.config.list_physical_devices()"
   ]
  },
  {
   "cell_type": "markdown",
   "metadata": {},
   "source": [
    "# CNN"
   ]
  },
  {
   "cell_type": "code",
   "execution_count": 11,
   "metadata": {},
   "outputs": [],
   "source": [
    "model = keras.Sequential([\n",
    "        #Convolution\n",
    "        keras.layers.Conv2D(filters = 30 , kernel_size = (3,3) , activation = \"relu\" ,input_shape = (32,32,3) ),\n",
    "        keras.layers.MaxPool2D((2,2),),\n",
    "        keras.layers.Conv2D(filters = 30 , kernel_size = (3,3) , activation = \"relu\" ),\n",
    "        keras.layers.MaxPool2D((2,2),),\n",
    "        #ANN\n",
    "        keras.layers.Flatten(),\n",
    "        keras.layers.Dense(30 , activation = \"relu\"),\n",
    "        keras.layers.Dense(10 , activation=\"softmax\")\n",
    "        ])\n",
    "\n",
    "model.compile(optimizer=\"adam\" , loss=\"sparse_categorical_crossentropy\", metrics=[\"accuracy\"])\n",
    "        "
   ]
  },
  {
   "cell_type": "code",
   "execution_count": 12,
   "metadata": {},
   "outputs": [
    {
     "name": "stdout",
     "output_type": "stream",
     "text": [
      "Epoch 1/10\n",
      "1563/1563 [==============================] - 36s 14ms/step - loss: 1.6224 - accuracy: 0.4082\n",
      "Epoch 2/10\n",
      "1563/1563 [==============================] - 26s 17ms/step - loss: 1.2706 - accuracy: 0.5488\n",
      "Epoch 3/10\n",
      "1563/1563 [==============================] - 13s 8ms/step - loss: 1.1363 - accuracy: 0.6028\n",
      "Epoch 4/10\n",
      "1563/1563 [==============================] - 23s 15ms/step - loss: 1.0643 - accuracy: 0.6291\n",
      "Epoch 5/10\n",
      "1563/1563 [==============================] - 29s 19ms/step - loss: 1.0172 - accuracy: 0.6463\n",
      "Epoch 6/10\n",
      "1563/1563 [==============================] - 30s 19ms/step - loss: 0.9782 - accuracy: 0.6600\n",
      "Epoch 7/10\n",
      "1563/1563 [==============================] - 30s 19ms/step - loss: 0.9527 - accuracy: 0.6694\n",
      "Epoch 8/10\n",
      "1563/1563 [==============================] - 30s 19ms/step - loss: 0.9269 - accuracy: 0.6787\n",
      "Epoch 9/10\n",
      "1563/1563 [==============================] - 30s 19ms/step - loss: 0.9028 - accuracy: 0.6864\n",
      "Epoch 10/10\n",
      "1563/1563 [==============================] - 26s 17ms/step - loss: 0.8826 - accuracy: 0.6945\n"
     ]
    },
    {
     "data": {
      "text/plain": [
       "<keras.callbacks.History at 0x1a4c56f77f0>"
      ]
     },
     "execution_count": 12,
     "metadata": {},
     "output_type": "execute_result"
    }
   ],
   "source": [
    "model.fit(x_train , y_train , epochs=10)"
   ]
  },
  {
   "cell_type": "code",
   "execution_count": 13,
   "metadata": {},
   "outputs": [
    {
     "name": "stdout",
     "output_type": "stream",
     "text": [
      "313/313 [==============================] - 4s 8ms/step - loss: 0.9699 - accuracy: 0.6658\n"
     ]
    },
    {
     "data": {
      "text/plain": [
       "[0.9698752760887146, 0.6657999753952026]"
      ]
     },
     "execution_count": 13,
     "metadata": {},
     "output_type": "execute_result"
    }
   ],
   "source": [
    "model.evaluate(x_test , y_test)"
   ]
  },
  {
   "cell_type": "code",
   "execution_count": 14,
   "metadata": {},
   "outputs": [
    {
     "name": "stdout",
     "output_type": "stream",
     "text": [
      "313/313 [==============================] - 1s 4ms/step\n"
     ]
    }
   ],
   "source": [
    "y_predicted = model.predict(x_test)"
   ]
  },
  {
   "cell_type": "code",
   "execution_count": 16,
   "metadata": {},
   "outputs": [],
   "source": [
    "y_predicted = [np.argmax(i) for i in y_predicted]"
   ]
  },
  {
   "cell_type": "code",
   "execution_count": 17,
   "metadata": {},
   "outputs": [
    {
     "data": {
      "text/plain": [
       "[3, 8, 8, 8, 6]"
      ]
     },
     "execution_count": 17,
     "metadata": {},
     "output_type": "execute_result"
    }
   ],
   "source": [
    "y_predicted[:5]"
   ]
  },
  {
   "cell_type": "code",
   "execution_count": 18,
   "metadata": {},
   "outputs": [
    {
     "data": {
      "text/plain": [
       "array([3, 8, 8, 0, 6], dtype=uint8)"
      ]
     },
     "execution_count": 18,
     "metadata": {},
     "output_type": "execute_result"
    }
   ],
   "source": [
    "y_test[:5]"
   ]
  },
  {
   "cell_type": "code",
   "execution_count": 19,
   "metadata": {},
   "outputs": [],
   "source": [
    "from sklearn.metrics import classification_report"
   ]
  },
  {
   "cell_type": "code",
   "execution_count": 20,
   "metadata": {},
   "outputs": [
    {
     "name": "stdout",
     "output_type": "stream",
     "text": [
      "              precision    recall  f1-score   support\n",
      "\n",
      "           0       0.71      0.62      0.66      1000\n",
      "           1       0.86      0.69      0.77      1000\n",
      "           2       0.61      0.45      0.52      1000\n",
      "           3       0.48      0.54      0.51      1000\n",
      "           4       0.68      0.58      0.62      1000\n",
      "           5       0.56      0.61      0.58      1000\n",
      "           6       0.76      0.75      0.76      1000\n",
      "           7       0.74      0.72      0.73      1000\n",
      "           8       0.67      0.85      0.75      1000\n",
      "           9       0.66      0.84      0.74      1000\n",
      "\n",
      "    accuracy                           0.67     10000\n",
      "   macro avg       0.67      0.67      0.66     10000\n",
      "weighted avg       0.67      0.67      0.66     10000\n",
      "\n"
     ]
    }
   ],
   "source": [
    "print(classification_report(y_test , y_predicted))"
   ]
  },
  {
   "cell_type": "code",
   "execution_count": null,
   "metadata": {},
   "outputs": [],
   "source": []
  }
 ],
 "metadata": {
  "kernelspec": {
   "display_name": "Python 3",
   "language": "python",
   "name": "python3"
  },
  "language_info": {
   "codemirror_mode": {
    "name": "ipython",
    "version": 3
   },
   "file_extension": ".py",
   "mimetype": "text/x-python",
   "name": "python",
   "nbconvert_exporter": "python",
   "pygments_lexer": "ipython3",
   "version": "3.10.5"
  },
  "orig_nbformat": 4
 },
 "nbformat": 4,
 "nbformat_minor": 2
}
