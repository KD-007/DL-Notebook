{
 "cells": [
  {
   "cell_type": "code",
   "execution_count": 1,
   "metadata": {},
   "outputs": [],
   "source": [
    "import pandas as pd\n",
    "import numpy as np"
   ]
  },
  {
   "cell_type": "code",
   "execution_count": 3,
   "metadata": {},
   "outputs": [],
   "source": [
    "df = pd.read_csv(\"../csvs/sonar_dataset.csv\" , header = None)"
   ]
  },
  {
   "cell_type": "code",
   "execution_count": 4,
   "metadata": {},
   "outputs": [
    {
     "data": {
      "text/html": [
       "<div>\n",
       "<style scoped>\n",
       "    .dataframe tbody tr th:only-of-type {\n",
       "        vertical-align: middle;\n",
       "    }\n",
       "\n",
       "    .dataframe tbody tr th {\n",
       "        vertical-align: top;\n",
       "    }\n",
       "\n",
       "    .dataframe thead th {\n",
       "        text-align: right;\n",
       "    }\n",
       "</style>\n",
       "<table border=\"1\" class=\"dataframe\">\n",
       "  <thead>\n",
       "    <tr style=\"text-align: right;\">\n",
       "      <th></th>\n",
       "      <th>0</th>\n",
       "      <th>1</th>\n",
       "      <th>2</th>\n",
       "      <th>3</th>\n",
       "      <th>4</th>\n",
       "      <th>5</th>\n",
       "      <th>6</th>\n",
       "      <th>7</th>\n",
       "      <th>8</th>\n",
       "      <th>9</th>\n",
       "      <th>...</th>\n",
       "      <th>51</th>\n",
       "      <th>52</th>\n",
       "      <th>53</th>\n",
       "      <th>54</th>\n",
       "      <th>55</th>\n",
       "      <th>56</th>\n",
       "      <th>57</th>\n",
       "      <th>58</th>\n",
       "      <th>59</th>\n",
       "      <th>60</th>\n",
       "    </tr>\n",
       "  </thead>\n",
       "  <tbody>\n",
       "    <tr>\n",
       "      <th>0</th>\n",
       "      <td>0.0200</td>\n",
       "      <td>0.0371</td>\n",
       "      <td>0.0428</td>\n",
       "      <td>0.0207</td>\n",
       "      <td>0.0954</td>\n",
       "      <td>0.0986</td>\n",
       "      <td>0.1539</td>\n",
       "      <td>0.1601</td>\n",
       "      <td>0.3109</td>\n",
       "      <td>0.2111</td>\n",
       "      <td>...</td>\n",
       "      <td>0.0027</td>\n",
       "      <td>0.0065</td>\n",
       "      <td>0.0159</td>\n",
       "      <td>0.0072</td>\n",
       "      <td>0.0167</td>\n",
       "      <td>0.0180</td>\n",
       "      <td>0.0084</td>\n",
       "      <td>0.0090</td>\n",
       "      <td>0.0032</td>\n",
       "      <td>R</td>\n",
       "    </tr>\n",
       "    <tr>\n",
       "      <th>1</th>\n",
       "      <td>0.0453</td>\n",
       "      <td>0.0523</td>\n",
       "      <td>0.0843</td>\n",
       "      <td>0.0689</td>\n",
       "      <td>0.1183</td>\n",
       "      <td>0.2583</td>\n",
       "      <td>0.2156</td>\n",
       "      <td>0.3481</td>\n",
       "      <td>0.3337</td>\n",
       "      <td>0.2872</td>\n",
       "      <td>...</td>\n",
       "      <td>0.0084</td>\n",
       "      <td>0.0089</td>\n",
       "      <td>0.0048</td>\n",
       "      <td>0.0094</td>\n",
       "      <td>0.0191</td>\n",
       "      <td>0.0140</td>\n",
       "      <td>0.0049</td>\n",
       "      <td>0.0052</td>\n",
       "      <td>0.0044</td>\n",
       "      <td>R</td>\n",
       "    </tr>\n",
       "    <tr>\n",
       "      <th>2</th>\n",
       "      <td>0.0262</td>\n",
       "      <td>0.0582</td>\n",
       "      <td>0.1099</td>\n",
       "      <td>0.1083</td>\n",
       "      <td>0.0974</td>\n",
       "      <td>0.2280</td>\n",
       "      <td>0.2431</td>\n",
       "      <td>0.3771</td>\n",
       "      <td>0.5598</td>\n",
       "      <td>0.6194</td>\n",
       "      <td>...</td>\n",
       "      <td>0.0232</td>\n",
       "      <td>0.0166</td>\n",
       "      <td>0.0095</td>\n",
       "      <td>0.0180</td>\n",
       "      <td>0.0244</td>\n",
       "      <td>0.0316</td>\n",
       "      <td>0.0164</td>\n",
       "      <td>0.0095</td>\n",
       "      <td>0.0078</td>\n",
       "      <td>R</td>\n",
       "    </tr>\n",
       "    <tr>\n",
       "      <th>3</th>\n",
       "      <td>0.0100</td>\n",
       "      <td>0.0171</td>\n",
       "      <td>0.0623</td>\n",
       "      <td>0.0205</td>\n",
       "      <td>0.0205</td>\n",
       "      <td>0.0368</td>\n",
       "      <td>0.1098</td>\n",
       "      <td>0.1276</td>\n",
       "      <td>0.0598</td>\n",
       "      <td>0.1264</td>\n",
       "      <td>...</td>\n",
       "      <td>0.0121</td>\n",
       "      <td>0.0036</td>\n",
       "      <td>0.0150</td>\n",
       "      <td>0.0085</td>\n",
       "      <td>0.0073</td>\n",
       "      <td>0.0050</td>\n",
       "      <td>0.0044</td>\n",
       "      <td>0.0040</td>\n",
       "      <td>0.0117</td>\n",
       "      <td>R</td>\n",
       "    </tr>\n",
       "    <tr>\n",
       "      <th>4</th>\n",
       "      <td>0.0762</td>\n",
       "      <td>0.0666</td>\n",
       "      <td>0.0481</td>\n",
       "      <td>0.0394</td>\n",
       "      <td>0.0590</td>\n",
       "      <td>0.0649</td>\n",
       "      <td>0.1209</td>\n",
       "      <td>0.2467</td>\n",
       "      <td>0.3564</td>\n",
       "      <td>0.4459</td>\n",
       "      <td>...</td>\n",
       "      <td>0.0031</td>\n",
       "      <td>0.0054</td>\n",
       "      <td>0.0105</td>\n",
       "      <td>0.0110</td>\n",
       "      <td>0.0015</td>\n",
       "      <td>0.0072</td>\n",
       "      <td>0.0048</td>\n",
       "      <td>0.0107</td>\n",
       "      <td>0.0094</td>\n",
       "      <td>R</td>\n",
       "    </tr>\n",
       "  </tbody>\n",
       "</table>\n",
       "<p>5 rows × 61 columns</p>\n",
       "</div>"
      ],
      "text/plain": [
       "       0       1       2       3       4       5       6       7       8   \\\n",
       "0  0.0200  0.0371  0.0428  0.0207  0.0954  0.0986  0.1539  0.1601  0.3109   \n",
       "1  0.0453  0.0523  0.0843  0.0689  0.1183  0.2583  0.2156  0.3481  0.3337   \n",
       "2  0.0262  0.0582  0.1099  0.1083  0.0974  0.2280  0.2431  0.3771  0.5598   \n",
       "3  0.0100  0.0171  0.0623  0.0205  0.0205  0.0368  0.1098  0.1276  0.0598   \n",
       "4  0.0762  0.0666  0.0481  0.0394  0.0590  0.0649  0.1209  0.2467  0.3564   \n",
       "\n",
       "       9   ...      51      52      53      54      55      56      57  \\\n",
       "0  0.2111  ...  0.0027  0.0065  0.0159  0.0072  0.0167  0.0180  0.0084   \n",
       "1  0.2872  ...  0.0084  0.0089  0.0048  0.0094  0.0191  0.0140  0.0049   \n",
       "2  0.6194  ...  0.0232  0.0166  0.0095  0.0180  0.0244  0.0316  0.0164   \n",
       "3  0.1264  ...  0.0121  0.0036  0.0150  0.0085  0.0073  0.0050  0.0044   \n",
       "4  0.4459  ...  0.0031  0.0054  0.0105  0.0110  0.0015  0.0072  0.0048   \n",
       "\n",
       "       58      59  60  \n",
       "0  0.0090  0.0032   R  \n",
       "1  0.0052  0.0044   R  \n",
       "2  0.0095  0.0078   R  \n",
       "3  0.0040  0.0117   R  \n",
       "4  0.0107  0.0094   R  \n",
       "\n",
       "[5 rows x 61 columns]"
      ]
     },
     "execution_count": 4,
     "metadata": {},
     "output_type": "execute_result"
    }
   ],
   "source": [
    "df.head(5)"
   ]
  },
  {
   "cell_type": "markdown",
   "metadata": {},
   "source": []
  },
  {
   "cell_type": "code",
   "execution_count": 7,
   "metadata": {},
   "outputs": [
    {
     "data": {
      "text/plain": [
       "0"
      ]
     },
     "execution_count": 7,
     "metadata": {},
     "output_type": "execute_result"
    }
   ],
   "source": [
    "df.isna().sum().sum()"
   ]
  },
  {
   "cell_type": "code",
   "execution_count": 8,
   "metadata": {},
   "outputs": [],
   "source": [
    "X = df.drop(60 , axis=1)\n",
    "y = df[60]"
   ]
  },
  {
   "cell_type": "code",
   "execution_count": 12,
   "metadata": {},
   "outputs": [
    {
     "data": {
      "text/plain": [
       "((208, 60), (208,))"
      ]
     },
     "execution_count": 12,
     "metadata": {},
     "output_type": "execute_result"
    }
   ],
   "source": [
    "X.shape , y.shape"
   ]
  },
  {
   "cell_type": "code",
   "execution_count": 13,
   "metadata": {},
   "outputs": [],
   "source": [
    "y = pd.get_dummies(y , drop_first=True)"
   ]
  },
  {
   "cell_type": "code",
   "execution_count": 17,
   "metadata": {},
   "outputs": [],
   "source": [
    "from sklearn.model_selection import train_test_split\n",
    "X_train , X_test , y_train , y_test = train_test_split(X , y , test_size=0.2 , random_state=1)"
   ]
  },
  {
   "cell_type": "code",
   "execution_count": 10,
   "metadata": {},
   "outputs": [],
   "source": [
    "import tensorflow as tf\n",
    "from tensorflow import keras "
   ]
  },
  {
   "cell_type": "code",
   "execution_count": 19,
   "metadata": {},
   "outputs": [
    {
     "name": "stdout",
     "output_type": "stream",
     "text": [
      "Epoch 1/50\n",
      "21/21 [==============================] - 1s 7ms/step - loss: 0.6872 - accuracy: 0.5663\n",
      "Epoch 2/50\n",
      "21/21 [==============================] - 0s 6ms/step - loss: 0.6692 - accuracy: 0.5904\n",
      "Epoch 3/50\n",
      "21/21 [==============================] - 0s 6ms/step - loss: 0.6583 - accuracy: 0.6205\n",
      "Epoch 4/50\n",
      "21/21 [==============================] - 0s 6ms/step - loss: 0.6467 - accuracy: 0.6325\n",
      "Epoch 5/50\n",
      "21/21 [==============================] - 0s 6ms/step - loss: 0.6374 - accuracy: 0.6687\n",
      "Epoch 6/50\n",
      "21/21 [==============================] - 0s 6ms/step - loss: 0.6223 - accuracy: 0.6747\n",
      "Epoch 7/50\n",
      "21/21 [==============================] - 0s 6ms/step - loss: 0.6076 - accuracy: 0.6807\n",
      "Epoch 8/50\n",
      "21/21 [==============================] - 0s 6ms/step - loss: 0.5938 - accuracy: 0.6867\n",
      "Epoch 9/50\n",
      "21/21 [==============================] - 0s 8ms/step - loss: 0.5834 - accuracy: 0.7349\n",
      "Epoch 10/50\n",
      "21/21 [==============================] - 0s 7ms/step - loss: 0.5571 - accuracy: 0.7711\n",
      "Epoch 11/50\n",
      "21/21 [==============================] - 0s 7ms/step - loss: 0.5482 - accuracy: 0.7771\n",
      "Epoch 12/50\n",
      "21/21 [==============================] - 0s 9ms/step - loss: 0.5293 - accuracy: 0.7590\n",
      "Epoch 13/50\n",
      "21/21 [==============================] - 0s 7ms/step - loss: 0.5083 - accuracy: 0.7831\n",
      "Epoch 14/50\n",
      "21/21 [==============================] - 0s 6ms/step - loss: 0.4899 - accuracy: 0.7952\n",
      "Epoch 15/50\n",
      "21/21 [==============================] - 0s 9ms/step - loss: 0.4658 - accuracy: 0.8072\n",
      "Epoch 16/50\n",
      "21/21 [==============================] - 0s 7ms/step - loss: 0.4650 - accuracy: 0.8012\n",
      "Epoch 17/50\n",
      "21/21 [==============================] - 0s 6ms/step - loss: 0.4322 - accuracy: 0.8494\n",
      "Epoch 18/50\n",
      "21/21 [==============================] - 0s 6ms/step - loss: 0.4211 - accuracy: 0.8434\n",
      "Epoch 19/50\n",
      "21/21 [==============================] - 0s 6ms/step - loss: 0.4112 - accuracy: 0.8494\n",
      "Epoch 20/50\n",
      "21/21 [==============================] - 0s 7ms/step - loss: 0.4085 - accuracy: 0.8012\n",
      "Epoch 21/50\n",
      "21/21 [==============================] - 0s 7ms/step - loss: 0.4089 - accuracy: 0.8133\n",
      "Epoch 22/50\n",
      "21/21 [==============================] - 0s 8ms/step - loss: 0.3828 - accuracy: 0.8554\n",
      "Epoch 23/50\n",
      "21/21 [==============================] - 0s 7ms/step - loss: 0.3859 - accuracy: 0.8373\n",
      "Epoch 24/50\n",
      "21/21 [==============================] - 0s 9ms/step - loss: 0.3686 - accuracy: 0.8494\n",
      "Epoch 25/50\n",
      "21/21 [==============================] - 0s 11ms/step - loss: 0.3605 - accuracy: 0.8614\n",
      "Epoch 26/50\n",
      "21/21 [==============================] - 0s 6ms/step - loss: 0.3585 - accuracy: 0.8675\n",
      "Epoch 27/50\n",
      "21/21 [==============================] - 0s 6ms/step - loss: 0.3542 - accuracy: 0.8614\n",
      "Epoch 28/50\n",
      "21/21 [==============================] - 0s 6ms/step - loss: 0.3579 - accuracy: 0.8373\n",
      "Epoch 29/50\n",
      "21/21 [==============================] - 0s 6ms/step - loss: 0.3509 - accuracy: 0.8494\n",
      "Epoch 30/50\n",
      "21/21 [==============================] - 0s 6ms/step - loss: 0.3291 - accuracy: 0.8735\n",
      "Epoch 31/50\n",
      "21/21 [==============================] - 0s 6ms/step - loss: 0.3299 - accuracy: 0.8494\n",
      "Epoch 32/50\n",
      "21/21 [==============================] - 0s 6ms/step - loss: 0.3308 - accuracy: 0.8675\n",
      "Epoch 33/50\n",
      "21/21 [==============================] - 0s 6ms/step - loss: 0.3193 - accuracy: 0.8735\n",
      "Epoch 34/50\n",
      "21/21 [==============================] - 0s 6ms/step - loss: 0.3123 - accuracy: 0.8614\n",
      "Epoch 35/50\n",
      "21/21 [==============================] - 0s 6ms/step - loss: 0.2982 - accuracy: 0.8614\n",
      "Epoch 36/50\n",
      "21/21 [==============================] - 0s 6ms/step - loss: 0.3285 - accuracy: 0.8614\n",
      "Epoch 37/50\n",
      "21/21 [==============================] - 0s 6ms/step - loss: 0.2980 - accuracy: 0.9036\n",
      "Epoch 38/50\n",
      "21/21 [==============================] - 0s 6ms/step - loss: 0.3053 - accuracy: 0.8735\n",
      "Epoch 39/50\n",
      "21/21 [==============================] - 0s 8ms/step - loss: 0.2948 - accuracy: 0.8855\n",
      "Epoch 40/50\n",
      "21/21 [==============================] - 0s 8ms/step - loss: 0.2991 - accuracy: 0.8855\n",
      "Epoch 41/50\n",
      "21/21 [==============================] - 0s 7ms/step - loss: 0.2863 - accuracy: 0.8795\n",
      "Epoch 42/50\n",
      "21/21 [==============================] - 0s 7ms/step - loss: 0.2807 - accuracy: 0.9036\n",
      "Epoch 43/50\n",
      "21/21 [==============================] - 0s 7ms/step - loss: 0.2739 - accuracy: 0.9157\n",
      "Epoch 44/50\n",
      "21/21 [==============================] - 0s 6ms/step - loss: 0.2737 - accuracy: 0.9036\n",
      "Epoch 45/50\n",
      "21/21 [==============================] - 0s 6ms/step - loss: 0.2649 - accuracy: 0.9036\n",
      "Epoch 46/50\n",
      "21/21 [==============================] - 0s 6ms/step - loss: 0.2636 - accuracy: 0.8976\n",
      "Epoch 47/50\n",
      "21/21 [==============================] - 0s 6ms/step - loss: 0.2629 - accuracy: 0.9217\n",
      "Epoch 48/50\n",
      "21/21 [==============================] - 0s 6ms/step - loss: 0.2515 - accuracy: 0.9217\n",
      "Epoch 49/50\n",
      "21/21 [==============================] - 0s 6ms/step - loss: 0.2555 - accuracy: 0.9096\n",
      "Epoch 50/50\n",
      "21/21 [==============================] - 0s 7ms/step - loss: 0.2437 - accuracy: 0.9277\n"
     ]
    },
    {
     "data": {
      "text/plain": [
       "<keras.callbacks.History at 0x1c5d870e620>"
      ]
     },
     "execution_count": 19,
     "metadata": {},
     "output_type": "execute_result"
    }
   ],
   "source": [
    "model = keras.Sequential([\n",
    "    keras.layers.Dense(30 , input_shape = (60 , ) , activation=\"relu\"),\n",
    "    keras.layers.Dense(10 , activation=\"relu\"),\n",
    "    keras.layers.Dense(1 ,  activation=\"sigmoid\"),\n",
    "])\n",
    "\n",
    "model.compile(optimizer=\"adam\" , loss=\"binary_crossentropy\" , metrics=[\"accuracy\"])\n",
    "model.fit(X_train , y_train , epochs=50 , batch_size=8)"
   ]
  },
  {
   "cell_type": "code",
   "execution_count": 20,
   "metadata": {},
   "outputs": [
    {
     "name": "stdout",
     "output_type": "stream",
     "text": [
      "2/2 [==============================] - 0s 11ms/step - loss: 0.4384 - accuracy: 0.7857\n"
     ]
    },
    {
     "data": {
      "text/plain": [
       "[0.4384368658065796, 0.7857142686843872]"
      ]
     },
     "execution_count": 20,
     "metadata": {},
     "output_type": "execute_result"
    }
   ],
   "source": [
    "model.evaluate(X_test , y_test)"
   ]
  },
  {
   "cell_type": "code",
   "execution_count": 21,
   "metadata": {},
   "outputs": [
    {
     "name": "stdout",
     "output_type": "stream",
     "text": [
      "Epoch 1/50\n",
      "21/21 [==============================] - 1s 10ms/step - loss: 0.7012 - accuracy: 0.5422\n",
      "Epoch 2/50\n",
      "21/21 [==============================] - 0s 7ms/step - loss: 0.7287 - accuracy: 0.5301\n",
      "Epoch 3/50\n",
      "21/21 [==============================] - 0s 7ms/step - loss: 0.6659 - accuracy: 0.6024\n",
      "Epoch 4/50\n",
      "21/21 [==============================] - 0s 6ms/step - loss: 0.6632 - accuracy: 0.6084\n",
      "Epoch 5/50\n",
      "21/21 [==============================] - 0s 7ms/step - loss: 0.6466 - accuracy: 0.6506\n",
      "Epoch 6/50\n",
      "21/21 [==============================] - 0s 6ms/step - loss: 0.6336 - accuracy: 0.6446\n",
      "Epoch 7/50\n",
      "21/21 [==============================] - 0s 6ms/step - loss: 0.6677 - accuracy: 0.5904\n",
      "Epoch 8/50\n",
      "21/21 [==============================] - 0s 7ms/step - loss: 0.6512 - accuracy: 0.6205\n",
      "Epoch 9/50\n",
      "21/21 [==============================] - 0s 7ms/step - loss: 0.6197 - accuracy: 0.6687\n",
      "Epoch 10/50\n",
      "21/21 [==============================] - 0s 6ms/step - loss: 0.6551 - accuracy: 0.6024\n",
      "Epoch 11/50\n",
      "21/21 [==============================] - 0s 6ms/step - loss: 0.6070 - accuracy: 0.6627\n",
      "Epoch 12/50\n",
      "21/21 [==============================] - 0s 7ms/step - loss: 0.6466 - accuracy: 0.6265\n",
      "Epoch 13/50\n",
      "21/21 [==============================] - 0s 8ms/step - loss: 0.6056 - accuracy: 0.6747\n",
      "Epoch 14/50\n",
      "21/21 [==============================] - 0s 9ms/step - loss: 0.5952 - accuracy: 0.7108\n",
      "Epoch 15/50\n",
      "21/21 [==============================] - 0s 7ms/step - loss: 0.6097 - accuracy: 0.6687\n",
      "Epoch 16/50\n",
      "21/21 [==============================] - 0s 7ms/step - loss: 0.6063 - accuracy: 0.6506\n",
      "Epoch 17/50\n",
      "21/21 [==============================] - 0s 7ms/step - loss: 0.6113 - accuracy: 0.6386\n",
      "Epoch 18/50\n",
      "21/21 [==============================] - 0s 9ms/step - loss: 0.5862 - accuracy: 0.7108\n",
      "Epoch 19/50\n",
      "21/21 [==============================] - 0s 8ms/step - loss: 0.6035 - accuracy: 0.6265\n",
      "Epoch 20/50\n",
      "21/21 [==============================] - 0s 7ms/step - loss: 0.5652 - accuracy: 0.6747\n",
      "Epoch 21/50\n",
      "21/21 [==============================] - 0s 7ms/step - loss: 0.5562 - accuracy: 0.7289\n",
      "Epoch 22/50\n",
      "21/21 [==============================] - 0s 7ms/step - loss: 0.5537 - accuracy: 0.7108\n",
      "Epoch 23/50\n",
      "21/21 [==============================] - 0s 7ms/step - loss: 0.5653 - accuracy: 0.7590\n",
      "Epoch 24/50\n",
      "21/21 [==============================] - 0s 7ms/step - loss: 0.5161 - accuracy: 0.7831\n",
      "Epoch 25/50\n",
      "21/21 [==============================] - 0s 7ms/step - loss: 0.5724 - accuracy: 0.7410\n",
      "Epoch 26/50\n",
      "21/21 [==============================] - 0s 15ms/step - loss: 0.5588 - accuracy: 0.7410\n",
      "Epoch 27/50\n",
      "21/21 [==============================] - 0s 7ms/step - loss: 0.5287 - accuracy: 0.7289\n",
      "Epoch 28/50\n",
      "21/21 [==============================] - 0s 7ms/step - loss: 0.5375 - accuracy: 0.7108\n",
      "Epoch 29/50\n",
      "21/21 [==============================] - 0s 6ms/step - loss: 0.5183 - accuracy: 0.7229\n",
      "Epoch 30/50\n",
      "21/21 [==============================] - 0s 6ms/step - loss: 0.5173 - accuracy: 0.7651\n",
      "Epoch 31/50\n",
      "21/21 [==============================] - 0s 9ms/step - loss: 0.5135 - accuracy: 0.7470\n",
      "Epoch 32/50\n",
      "21/21 [==============================] - 0s 6ms/step - loss: 0.4901 - accuracy: 0.7590\n",
      "Epoch 33/50\n",
      "21/21 [==============================] - 0s 6ms/step - loss: 0.5001 - accuracy: 0.7771\n",
      "Epoch 34/50\n",
      "21/21 [==============================] - 0s 6ms/step - loss: 0.4828 - accuracy: 0.7651\n",
      "Epoch 35/50\n",
      "21/21 [==============================] - 0s 6ms/step - loss: 0.4702 - accuracy: 0.7771\n",
      "Epoch 36/50\n",
      "21/21 [==============================] - 0s 7ms/step - loss: 0.4954 - accuracy: 0.7651\n",
      "Epoch 37/50\n",
      "21/21 [==============================] - 0s 7ms/step - loss: 0.4845 - accuracy: 0.7771\n",
      "Epoch 38/50\n",
      "21/21 [==============================] - 0s 6ms/step - loss: 0.4946 - accuracy: 0.7651\n",
      "Epoch 39/50\n",
      "21/21 [==============================] - 0s 7ms/step - loss: 0.4491 - accuracy: 0.8253\n",
      "Epoch 40/50\n",
      "21/21 [==============================] - 0s 10ms/step - loss: 0.4556 - accuracy: 0.8012\n",
      "Epoch 41/50\n",
      "21/21 [==============================] - 0s 7ms/step - loss: 0.4665 - accuracy: 0.8012\n",
      "Epoch 42/50\n",
      "21/21 [==============================] - 0s 7ms/step - loss: 0.4756 - accuracy: 0.7831\n",
      "Epoch 43/50\n",
      "21/21 [==============================] - 0s 9ms/step - loss: 0.4626 - accuracy: 0.7831\n",
      "Epoch 44/50\n",
      "21/21 [==============================] - 0s 7ms/step - loss: 0.4185 - accuracy: 0.8193\n",
      "Epoch 45/50\n",
      "21/21 [==============================] - 0s 7ms/step - loss: 0.4367 - accuracy: 0.8253\n",
      "Epoch 46/50\n",
      "21/21 [==============================] - 0s 7ms/step - loss: 0.4401 - accuracy: 0.8434\n",
      "Epoch 47/50\n",
      "21/21 [==============================] - 0s 7ms/step - loss: 0.4097 - accuracy: 0.8313\n",
      "Epoch 48/50\n",
      "21/21 [==============================] - 0s 7ms/step - loss: 0.4598 - accuracy: 0.7952\n",
      "Epoch 49/50\n",
      "21/21 [==============================] - 0s 7ms/step - loss: 0.4356 - accuracy: 0.8434\n",
      "Epoch 50/50\n",
      "21/21 [==============================] - 0s 8ms/step - loss: 0.4345 - accuracy: 0.7831\n"
     ]
    },
    {
     "data": {
      "text/plain": [
       "<keras.callbacks.History at 0x1c5eb7624d0>"
      ]
     },
     "execution_count": 21,
     "metadata": {},
     "output_type": "execute_result"
    }
   ],
   "source": [
    "model2 = keras.Sequential([\n",
    "    keras.layers.Dense(30 , input_shape = (60 , ) , activation=\"relu\"),\n",
    "    keras.layers.Dropout(0.50),\n",
    "    keras.layers.Dense(10 , activation=\"relu\"),\n",
    "    keras.layers.Dropout(0.30),\n",
    "    keras.layers.Dense(1 ,  activation=\"sigmoid\"),\n",
    "])\n",
    "\n",
    "model2.compile(optimizer=\"adam\" , loss=\"binary_crossentropy\" , metrics=[\"accuracy\"])\n",
    "model2.fit(X_train , y_train , epochs=50 , batch_size=8)"
   ]
  },
  {
   "cell_type": "code",
   "execution_count": 22,
   "metadata": {},
   "outputs": [
    {
     "name": "stdout",
     "output_type": "stream",
     "text": [
      "2/2 [==============================] - 0s 10ms/step - loss: 0.4828 - accuracy: 0.7857\n"
     ]
    },
    {
     "data": {
      "text/plain": [
       "[0.48280829191207886, 0.7857142686843872]"
      ]
     },
     "execution_count": 22,
     "metadata": {},
     "output_type": "execute_result"
    }
   ],
   "source": [
    "model2.evaluate(X_test , y_test)"
   ]
  },
  {
   "cell_type": "code",
   "execution_count": 23,
   "metadata": {},
   "outputs": [
    {
     "name": "stdout",
     "output_type": "stream",
     "text": [
      "2/2 [==============================] - 0s 5ms/step\n"
     ]
    }
   ],
   "source": [
    "y_predicted = model2.predict(X_test)"
   ]
  },
  {
   "cell_type": "code",
   "execution_count": 24,
   "metadata": {},
   "outputs": [
    {
     "data": {
      "text/plain": [
       "array([[0.01153547],\n",
       "       [0.6508001 ],\n",
       "       [0.85735464],\n",
       "       [0.06339177],\n",
       "       [0.9387437 ],\n",
       "       [0.77113366],\n",
       "       [0.5460994 ],\n",
       "       [0.9216153 ],\n",
       "       [0.10703759],\n",
       "       [0.9571537 ]], dtype=float32)"
      ]
     },
     "execution_count": 24,
     "metadata": {},
     "output_type": "execute_result"
    }
   ],
   "source": [
    "y_predicted[:10]"
   ]
  },
  {
   "cell_type": "code",
   "execution_count": 25,
   "metadata": {},
   "outputs": [
    {
     "data": {
      "text/plain": [
       "array([[0.],\n",
       "       [1.],\n",
       "       [1.],\n",
       "       [0.],\n",
       "       [1.],\n",
       "       [1.],\n",
       "       [1.],\n",
       "       [1.],\n",
       "       [0.],\n",
       "       [1.]], dtype=float32)"
      ]
     },
     "execution_count": 25,
     "metadata": {},
     "output_type": "execute_result"
    }
   ],
   "source": [
    "y_predicted = np.round(y_predicted)\n",
    "y_predicted[:10]"
   ]
  },
  {
   "cell_type": "code",
   "execution_count": 26,
   "metadata": {},
   "outputs": [
    {
     "data": {
      "text/html": [
       "<div>\n",
       "<style scoped>\n",
       "    .dataframe tbody tr th:only-of-type {\n",
       "        vertical-align: middle;\n",
       "    }\n",
       "\n",
       "    .dataframe tbody tr th {\n",
       "        vertical-align: top;\n",
       "    }\n",
       "\n",
       "    .dataframe thead th {\n",
       "        text-align: right;\n",
       "    }\n",
       "</style>\n",
       "<table border=\"1\" class=\"dataframe\">\n",
       "  <thead>\n",
       "    <tr style=\"text-align: right;\">\n",
       "      <th></th>\n",
       "      <th>R</th>\n",
       "    </tr>\n",
       "  </thead>\n",
       "  <tbody>\n",
       "    <tr>\n",
       "      <th>186</th>\n",
       "      <td>0</td>\n",
       "    </tr>\n",
       "    <tr>\n",
       "      <th>155</th>\n",
       "      <td>0</td>\n",
       "    </tr>\n",
       "    <tr>\n",
       "      <th>165</th>\n",
       "      <td>0</td>\n",
       "    </tr>\n",
       "    <tr>\n",
       "      <th>200</th>\n",
       "      <td>0</td>\n",
       "    </tr>\n",
       "    <tr>\n",
       "      <th>58</th>\n",
       "      <td>1</td>\n",
       "    </tr>\n",
       "    <tr>\n",
       "      <th>34</th>\n",
       "      <td>1</td>\n",
       "    </tr>\n",
       "    <tr>\n",
       "      <th>151</th>\n",
       "      <td>0</td>\n",
       "    </tr>\n",
       "    <tr>\n",
       "      <th>18</th>\n",
       "      <td>1</td>\n",
       "    </tr>\n",
       "    <tr>\n",
       "      <th>202</th>\n",
       "      <td>0</td>\n",
       "    </tr>\n",
       "    <tr>\n",
       "      <th>62</th>\n",
       "      <td>1</td>\n",
       "    </tr>\n",
       "  </tbody>\n",
       "</table>\n",
       "</div>"
      ],
      "text/plain": [
       "     R\n",
       "186  0\n",
       "155  0\n",
       "165  0\n",
       "200  0\n",
       "58   1\n",
       "34   1\n",
       "151  0\n",
       "18   1\n",
       "202  0\n",
       "62   1"
      ]
     },
     "execution_count": 26,
     "metadata": {},
     "output_type": "execute_result"
    }
   ],
   "source": [
    "y_test[:10]"
   ]
  },
  {
   "cell_type": "code",
   "execution_count": 27,
   "metadata": {},
   "outputs": [],
   "source": [
    "from sklearn.metrics import confusion_matrix , classification_report"
   ]
  },
  {
   "cell_type": "code",
   "execution_count": 28,
   "metadata": {},
   "outputs": [
    {
     "name": "stdout",
     "output_type": "stream",
     "text": [
      "              precision    recall  f1-score   support\n",
      "\n",
      "           0       0.76      0.80      0.78        20\n",
      "           1       0.81      0.77      0.79        22\n",
      "\n",
      "    accuracy                           0.79        42\n",
      "   macro avg       0.79      0.79      0.79        42\n",
      "weighted avg       0.79      0.79      0.79        42\n",
      "\n"
     ]
    }
   ],
   "source": [
    "print(classification_report(y_test , y_predicted))"
   ]
  },
  {
   "cell_type": "code",
   "execution_count": 29,
   "metadata": {},
   "outputs": [],
   "source": [
    "ax = confusion_matrix(y_test , y_predicted)"
   ]
  },
  {
   "cell_type": "code",
   "execution_count": 30,
   "metadata": {},
   "outputs": [
    {
     "data": {
      "text/plain": [
       "<AxesSubplot:>"
      ]
     },
     "execution_count": 30,
     "metadata": {},
     "output_type": "execute_result"
    },
    {
     "data": {
      "image/png": "[encoded data removed]",
      "text/plain": [
       "<Figure size 640x480 with 2 Axes>"
      ]
     },
     "metadata": {},
     "output_type": "display_data"
    }
   ],
   "source": [
    "import seaborn as sns\n",
    "sns.heatmap(ax , annot=True , fmt=\"d\")"
   ]
  },
  {
   "cell_type": "code",
   "execution_count": null,
   "metadata": {},
   "outputs": [],
   "source": []
  }
 ],
 "metadata": {
  "kernelspec": {
   "display_name": "Python 3",
   "language": "python",
   "name": "python3"
  },
  "language_info": {
   "codemirror_mode": {
    "name": "ipython",
    "version": 3
   },
   "file_extension": ".py",
   "mimetype": "text/x-python",
   "name": "python",
   "nbconvert_exporter": "python",
   "pygments_lexer": "ipython3",
   "version": "3.10.5"
  },
  "orig_nbformat": 4
 },
 "nbformat": 4,
 "nbformat_minor": 2
}
