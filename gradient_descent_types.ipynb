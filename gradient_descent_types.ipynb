{
 "cells": [
  {
   "cell_type": "code",
   "execution_count": 1,
   "metadata": {},
   "outputs": [],
   "source": [
    "import pandas as pd\n",
    "import numpy as np\n",
    "import seaborn as sns\n",
    "import matplotlib.pyplot as plt"
   ]
  },
  {
   "cell_type": "code",
   "execution_count": 2,
   "metadata": {},
   "outputs": [
    {
     "data": {
      "text/html": [
       "<div>\n",
       "<style scoped>\n",
       "    .dataframe tbody tr th:only-of-type {\n",
       "        vertical-align: middle;\n",
       "    }\n",
       "\n",
       "    .dataframe tbody tr th {\n",
       "        vertical-align: top;\n",
       "    }\n",
       "\n",
       "    .dataframe thead th {\n",
       "        text-align: right;\n",
       "    }\n",
       "</style>\n",
       "<table border=\"1\" class=\"dataframe\">\n",
       "  <thead>\n",
       "    <tr style=\"text-align: right;\">\n",
       "      <th></th>\n",
       "      <th>area</th>\n",
       "      <th>bedrooms</th>\n",
       "      <th>price</th>\n",
       "    </tr>\n",
       "  </thead>\n",
       "  <tbody>\n",
       "    <tr>\n",
       "      <th>19</th>\n",
       "      <td>800</td>\n",
       "      <td>1</td>\n",
       "      <td>32.0</td>\n",
       "    </tr>\n",
       "    <tr>\n",
       "      <th>6</th>\n",
       "      <td>2732</td>\n",
       "      <td>4</td>\n",
       "      <td>135.0</td>\n",
       "    </tr>\n",
       "    <tr>\n",
       "      <th>17</th>\n",
       "      <td>1540</td>\n",
       "      <td>3</td>\n",
       "      <td>60.0</td>\n",
       "    </tr>\n",
       "    <tr>\n",
       "      <th>18</th>\n",
       "      <td>2770</td>\n",
       "      <td>3</td>\n",
       "      <td>102.0</td>\n",
       "    </tr>\n",
       "    <tr>\n",
       "      <th>5</th>\n",
       "      <td>1170</td>\n",
       "      <td>2</td>\n",
       "      <td>38.0</td>\n",
       "    </tr>\n",
       "  </tbody>\n",
       "</table>\n",
       "</div>"
      ],
      "text/plain": [
       "    area  bedrooms  price\n",
       "19   800         1   32.0\n",
       "6   2732         4  135.0\n",
       "17  1540         3   60.0\n",
       "18  2770         3  102.0\n",
       "5   1170         2   38.0"
      ]
     },
     "execution_count": 2,
     "metadata": {},
     "output_type": "execute_result"
    }
   ],
   "source": [
    "df = pd.read_csv(\"../csvs/homeprices_banglore.csv\")\n",
    "df.sample(5)"
   ]
  },
  {
   "cell_type": "code",
   "execution_count": 3,
   "metadata": {},
   "outputs": [],
   "source": [
    "from sklearn.preprocessing import MinMaxScaler"
   ]
  },
  {
   "cell_type": "code",
   "execution_count": 4,
   "metadata": {},
   "outputs": [],
   "source": [
    "sxobj = MinMaxScaler()\n",
    "syobj = MinMaxScaler()"
   ]
  },
  {
   "cell_type": "code",
   "execution_count": 5,
   "metadata": {},
   "outputs": [],
   "source": [
    "sx = sxobj.fit_transform(df[[\"area\" , \"bedrooms\"]])\n",
    "sy = syobj.fit_transform(df[[\"price\"]])"
   ]
  },
  {
   "cell_type": "code",
   "execution_count": 6,
   "metadata": {},
   "outputs": [
    {
     "data": {
      "text/plain": [
       "array([[0.05237037],\n",
       "       [0.65185185],\n",
       "       [0.22222222],\n",
       "       [0.31851852],\n",
       "       [0.14074074],\n",
       "       [0.04444444],\n",
       "       [0.76296296],\n",
       "       [0.91111111],\n",
       "       [0.13333333],\n",
       "       [1.        ],\n",
       "       [0.37037037],\n",
       "       [0.8       ],\n",
       "       [0.04444444],\n",
       "       [0.05925926],\n",
       "       [0.51111111],\n",
       "       [0.07407407],\n",
       "       [0.11851852],\n",
       "       [0.20740741],\n",
       "       [0.51851852],\n",
       "       [0.        ]])"
      ]
     },
     "execution_count": 6,
     "metadata": {},
     "output_type": "execute_result"
    }
   ],
   "source": [
    "sy"
   ]
  },
  {
   "cell_type": "code",
   "execution_count": 7,
   "metadata": {},
   "outputs": [],
   "source": [
    "sy = sy.reshape(20,)"
   ]
  },
  {
   "cell_type": "code",
   "execution_count": 8,
   "metadata": {},
   "outputs": [
    {
     "data": {
      "text/plain": [
       "((20, 2), (20,))"
      ]
     },
     "execution_count": 8,
     "metadata": {},
     "output_type": "execute_result"
    }
   ],
   "source": [
    "sx.shape , sy.shape"
   ]
  },
  {
   "cell_type": "code",
   "execution_count": 12,
   "metadata": {},
   "outputs": [],
   "source": [
    "from sklearn.model_selection import train_test_split\n",
    "X_train , X_test , y_train , y_test = train_test_split(sx , sy ,test_size=0.33)"
   ]
  },
  {
   "cell_type": "code",
   "execution_count": 13,
   "metadata": {},
   "outputs": [],
   "source": [
    "def batchGradientDescent(X , y , epoche , learning_rate):\n",
    "    no_of_features = X.shape[1]\n",
    "    bias = 0\n",
    "    weights = np.ones(shape=(no_of_features))\n",
    "    total_samples = X.shape[0]\n",
    "    cost_arr = []\n",
    "    epoche_arr = []\n",
    "    \n",
    "    for i in range(epoche):\n",
    "        y_predicted = np.dot(weights , X.T) + bias \n",
    "        # print(y_predicted.shape ,weights.shape ,  X.T.shape ) \n",
    "        cost = np.mean(np.square(y - y_predicted))\n",
    "        \n",
    "        derivative_wrt_w = -(2/total_samples) * (X.T.dot(y-y_predicted))\n",
    "        derivative_wrt_bias = -(2/total_samples) * np.sum(y - y_predicted)\n",
    "        # print(derivative_wrt_w.shape ,derivative_wrt_bias.shape  ) \n",
    "        weights = weights - learning_rate*derivative_wrt_w\n",
    "        bias = bias - learning_rate*derivative_wrt_bias\n",
    "        \n",
    "        if i%50 == 0:\n",
    "            cost_arr.append(cost)\n",
    "            epoche_arr.append(i)\n",
    "    return weights , bias , cost_arr , epoche_arr        "
   ]
  },
  {
   "cell_type": "code",
   "execution_count": 14,
   "metadata": {},
   "outputs": [],
   "source": [
    "weights , bias , cost_arr , epoche_arr  = batchGradientDescent(X_train , y_train , 500 , 0.5)"
   ]
  },
  {
   "cell_type": "code",
   "execution_count": 15,
   "metadata": {},
   "outputs": [
    {
     "data": {
      "text/plain": [
       "(array([0.80900393, 0.40708002]), -0.14062824119141312)"
      ]
     },
     "execution_count": 15,
     "metadata": {},
     "output_type": "execute_result"
    }
   ],
   "source": [
    "weights , bias"
   ]
  },
  {
   "cell_type": "code",
   "execution_count": 16,
   "metadata": {},
   "outputs": [
    {
     "name": "stderr",
     "output_type": "stream",
     "text": [
      "c:\\Users\\kulde\\AppData\\Local\\Programs\\Python\\Python310\\lib\\site-packages\\seaborn\\_decorators.py:36: FutureWarning: Pass the following variables as keyword args: x, y. From version 0.12, the only valid positional argument will be `data`, and passing other arguments without an explicit keyword will result in an error or misinterpretation.\n",
      "  warnings.warn(\n"
     ]
    },
    {
     "data": {
      "text/plain": [
       "<AxesSubplot:>"
      ]
     },
     "execution_count": 16,
     "metadata": {},
     "output_type": "execute_result"
    },
    {
     "data": {
      "image/png": "[encoded data removed]",
      "text/plain": [
       "<Figure size 640x480 with 1 Axes>"
      ]
     },
     "metadata": {},
     "output_type": "display_data"
    }
   ],
   "source": [
    "sns.lineplot(epoche_arr , cost_arr)"
   ]
  },
  {
   "cell_type": "code",
   "execution_count": 17,
   "metadata": {},
   "outputs": [
    {
     "data": {
      "text/plain": [
       "[<matplotlib.lines.Line2D at 0x2810c32dae0>]"
      ]
     },
     "execution_count": 17,
     "metadata": {},
     "output_type": "execute_result"
    },
    {
     "data": {
      "image/png": "[encoded data removed]",
      "text/plain": [
       "<Figure size 640x480 with 1 Axes>"
      ]
     },
     "metadata": {},
     "output_type": "display_data"
    }
   ],
   "source": [
    "plt.plot(epoche_arr , cost_arr)"
   ]
  },
  {
   "cell_type": "code",
   "execution_count": 18,
   "metadata": {},
   "outputs": [
    {
     "data": {
      "text/plain": [
       "0.003032185610231995"
      ]
     },
     "execution_count": 18,
     "metadata": {},
     "output_type": "execute_result"
    }
   ],
   "source": [
    "cost_arr[-1]"
   ]
  },
  {
   "cell_type": "code",
   "execution_count": 21,
   "metadata": {},
   "outputs": [],
   "source": [
    "def stochasticGradientDescent(X , y , epoche , learning_rate):\n",
    "    weights = np.ones(shape=X.shape[1])\n",
    "    bias = 0\n",
    "    n = X.shape[0]\n",
    "    cost_arr = []\n",
    "    epoche_arr = []\n",
    "    \n",
    "    for i in range(epoche):\n",
    "        index = np.random.randint(0 , X.shape[0])\n",
    "        \n",
    "        y_predicted = np.dot(weights , X[index].T) + bias\n",
    "        cost = np.mean(np.square(y[index] - y_predicted)) # same as loss since it is only one point , no need to apply mean\n",
    "        derivative_wrt_w = -(2/n) * np.dot(X[index].T , (y[index]-y_predicted))\n",
    "        derivative_wrt_b = -(2/n) * np.sum(y[index] - y_predicted)\n",
    "\n",
    "        weights = weights - learning_rate*derivative_wrt_w\n",
    "        bias = bias - learning_rate*derivative_wrt_b\n",
    "        \n",
    "        if i%10 == 0:\n",
    "                cost_arr.append(cost)\n",
    "                epoche_arr.append(i)\n",
    "                \n",
    "    return weights , bias , cost_arr , epoche_arr        "
   ]
  },
  {
   "cell_type": "code",
   "execution_count": 22,
   "metadata": {},
   "outputs": [],
   "source": [
    "weights , bias , cost_arr , epoche_arr  = stochasticGradientDescent(X_train , y_train , 500 , 0.5)"
   ]
  },
  {
   "cell_type": "code",
   "execution_count": null,
   "metadata": {},
   "outputs": [
    {
     "data": {
      "text/plain": [
       "(array([0.71738502, 0.473321  ]), -0.11396236771855982)"
      ]
     },
     "execution_count": 61,
     "metadata": {},
     "output_type": "execute_result"
    }
   ],
   "source": [
    "weights , bias "
   ]
  },
  {
   "cell_type": "code",
   "execution_count": null,
   "metadata": {},
   "outputs": [
    {
     "data": {
      "text/plain": [
       "[<matplotlib.lines.Line2D at 0x2017fe4f610>]"
      ]
     },
     "execution_count": 62,
     "metadata": {},
     "output_type": "execute_result"
    },
    {
     "data": {
      "image/png": "[encoded data removed]",
      "text/plain": [
       "<Figure size 640x480 with 1 Axes>"
      ]
     },
     "metadata": {},
     "output_type": "display_data"
    }
   ],
   "source": [
    "plt.plot(epoche_arr , cost_arr)"
   ]
  },
  {
   "cell_type": "code",
   "execution_count": null,
   "metadata": {},
   "outputs": [
    {
     "data": {
      "text/plain": [
       "5"
      ]
     },
     "execution_count": 58,
     "metadata": {},
     "output_type": "execute_result"
    }
   ],
   "source": [
    "np.random.randint(0 , X_train.shape[0])"
   ]
  },
  {
   "cell_type": "code",
   "execution_count": 29,
   "metadata": {},
   "outputs": [],
   "source": [
    "def miniBatchGradientDescent(X , y , epoche , learning_rate , batch_size):\n",
    "    weights = np.ones(shape=X.shape[1])\n",
    "    bias = 0\n",
    "    n = X.shape[0]\n",
    "    cost_arr = []\n",
    "    epoche_arr = []\n",
    "    \n",
    "    if  batch_size> n:\n",
    "        batch_size = n\n",
    "    \n",
    "    total_batches = n//batch_size    \n",
    "    \n",
    "    for i in range(epoche):\n",
    "        \n",
    "        shuffeled_indecis = np.random.permutation(n)\n",
    "        X_temp = X[shuffeled_indecis]\n",
    "        y_temp = y[shuffeled_indecis]\n",
    "        \n",
    "        temp_cost = []\n",
    "        \n",
    "        for j in range(0 , n , batch_size):\n",
    "            X_batch = X_temp[j:j+batch_size]\n",
    "            y_batch = y_temp[j:j+batch_size]\n",
    "            \n",
    "            y_batch_predicted = np.dot(weights , X_batch.T) + bias\n",
    "            \n",
    "            cost_batch = np.mean(np.square(y_batch - y_batch_predicted))\n",
    "            temp_cost.append(cost_batch)\n",
    "            \n",
    "            derivative_wrt_w = -(2/batch_size)* np.dot(X_batch.T , (y_batch - y_batch_predicted))\n",
    "            derivative_wrt_b = -(2/batch_size)* np.mean(y_batch - y_batch_predicted)\n",
    "            \n",
    "            weights = weights - learning_rate * derivative_wrt_w\n",
    "            bias = bias - learning_rate * derivative_wrt_b\n",
    "        \n",
    "        if i%10 == 0:\n",
    "            cost_arr.append(np.mean(temp_cost))     \n",
    "            epoche_arr.append(i)\n",
    "            \n",
    "    return weights , bias , cost_arr , epoche_arr           "
   ]
  },
  {
   "cell_type": "code",
   "execution_count": 30,
   "metadata": {},
   "outputs": [],
   "source": [
    "weights , bias , cost_arr , epoche_arr  = miniBatchGradientDescent(X_train , y_train , 500 , 0.5 , 3)"
   ]
  },
  {
   "cell_type": "code",
   "execution_count": 31,
   "metadata": {},
   "outputs": [
    {
     "data": {
      "text/plain": [
       "(array([0.81219152, 0.48917181]), -0.16505546706204455)"
      ]
     },
     "execution_count": 31,
     "metadata": {},
     "output_type": "execute_result"
    }
   ],
   "source": [
    "weights , bias "
   ]
  },
  {
   "cell_type": "code",
   "execution_count": 32,
   "metadata": {},
   "outputs": [
    {
     "data": {
      "text/plain": [
       "[<matplotlib.lines.Line2D at 0x2810c201150>]"
      ]
     },
     "execution_count": 32,
     "metadata": {},
     "output_type": "execute_result"
    },
    {
     "data": {
      "image/png": "[encoded data removed]",
      "text/plain": [
       "<Figure size 640x480 with 1 Axes>"
      ]
     },
     "metadata": {},
     "output_type": "display_data"
    }
   ],
   "source": [
    "plt.plot(epoche_arr , cost_arr)"
   ]
  },
  {
   "cell_type": "code",
   "execution_count": null,
   "metadata": {},
   "outputs": [],
   "source": []
  },
  {
   "cell_type": "code",
   "execution_count": null,
   "metadata": {},
   "outputs": [],
   "source": []
  },
  {
   "cell_type": "code",
   "execution_count": null,
   "metadata": {},
   "outputs": [],
   "source": []
  },
  {
   "cell_type": "code",
   "execution_count": null,
   "metadata": {},
   "outputs": [],
   "source": []
  }
 ],
 "metadata": {
  "kernelspec": {
   "display_name": "Python 3",
   "language": "python",
   "name": "python3"
  },
  "language_info": {
   "codemirror_mode": {
    "name": "ipython",
    "version": 3
   },
   "file_extension": ".py",
   "mimetype": "text/x-python",
   "name": "python",
   "nbconvert_exporter": "python",
   "pygments_lexer": "ipython3",
   "version": "3.10.5"
  },
  "orig_nbformat": 4
 },
 "nbformat": 4,
 "nbformat_minor": 2
}
